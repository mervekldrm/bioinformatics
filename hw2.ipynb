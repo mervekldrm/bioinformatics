{
  "nbformat": 4,
  "nbformat_minor": 0,
  "metadata": {
    "colab": {
      "provenance": [],
      "authorship_tag": "ABX9TyMDDQ1OruX6z0SGPQkm6P07",
      "include_colab_link": true
    },
    "kernelspec": {
      "name": "python3",
      "display_name": "Python 3"
    },
    "language_info": {
      "name": "python"
    }
  },
  "cells": [
    {
      "cell_type": "markdown",
      "metadata": {
        "id": "view-in-github",
        "colab_type": "text"
      },
      "source": [
        "<a href=\"https://colab.research.google.com/github/mervekldrm/bioinformatics/blob/main/hw2.ipynb\" target=\"_parent\"><img src=\"https://colab.research.google.com/assets/colab-badge.svg\" alt=\"Open In Colab\"/></a>"
      ]
    },
    {
      "cell_type": "code",
      "execution_count": 1,
      "metadata": {
        "id": "7nhimn1ie-N9"
      },
      "outputs": [],
      "source": [
        "# Install BioPython on local computer\n",
        "#!pip3 install biopython\n",
        ""
      ]
    },
    {
      "cell_type": "code",
      "source": [
        "try:\n",
        "    import google.colab\n",
        "    # Running on Google Colab, so install Biopython first\n",
        "    !pip install biopython\n",
        "except ImportError:\n",
        "    pass\n",
        "\n"
      ],
      "metadata": {
        "colab": {
          "base_uri": "https://localhost:8080/"
        },
        "id": "qFeQh5QRfkhw",
        "outputId": "bf8dc2d6-f820-4e60-9b64-a87af70b6066"
      },
      "execution_count": 2,
      "outputs": [
        {
          "output_type": "stream",
          "name": "stdout",
          "text": [
            "Collecting biopython\n",
            "  Downloading biopython-1.85-cp312-cp312-manylinux_2_17_x86_64.manylinux2014_x86_64.whl.metadata (13 kB)\n",
            "Requirement already satisfied: numpy in /usr/local/lib/python3.12/dist-packages (from biopython) (2.0.2)\n",
            "Downloading biopython-1.85-cp312-cp312-manylinux_2_17_x86_64.manylinux2014_x86_64.whl (3.3 MB)\n",
            "\u001b[2K   \u001b[90m━━━━━━━━━━━━━━━━━━━━━━━━━━━━━━━━━━━━━━━━\u001b[0m \u001b[32m3.3/3.3 MB\u001b[0m \u001b[31m32.2 MB/s\u001b[0m eta \u001b[36m0:00:00\u001b[0m\n",
            "\u001b[?25hInstalling collected packages: biopython\n",
            "Successfully installed biopython-1.85\n"
          ]
        }
      ]
    },
    {
      "cell_type": "code",
      "source": [
        "import os\n",
        "import sys\n",
        "\n",
        "from urllib.request import urlretrieve\n",
        "\n",
        "import Bio\n",
        "from Bio import SeqIO, SearchIO, Entrez\n",
        "from Bio.Seq import Seq\n",
        "from Bio import SeqUtils # Import the SeqUtils module\n",
        "from Bio.Blast import NCBIWWW\n",
        "from Bio.Data import CodonTable\n",
        "\n",
        "print(\"Python version:\", sys.version_info)\n",
        "print(\"Biopython version:\", Bio.__version__)"
      ],
      "metadata": {
        "colab": {
          "base_uri": "https://localhost:8080/"
        },
        "id": "lJNJ0LkRf97i",
        "outputId": "03823e32-a549-4b37-feb9-e6b381b92805"
      },
      "execution_count": 3,
      "outputs": [
        {
          "output_type": "stream",
          "name": "stdout",
          "text": [
            "Python version: sys.version_info(major=3, minor=12, micro=12, releaselevel='final', serial=0)\n",
            "Biopython version: 1.85\n"
          ]
        }
      ]
    },
    {
      "cell_type": "code",
      "source": [
        "# --- Gerekli kütüphaneler ---\n",
        "import os\n",
        "from Bio import Entrez, SeqIO\n",
        "\n",
        "# --- Çıktı klasörü oluştur ---\n",
        "outdir = \"hw_2\"\n",
        "os.makedirs(outdir, exist_ok=True)\n",
        "\n",
        "# --- Entrez ayarları ---\n",
        "Entrez.email = \"mervekaldirim@posta.mu.edu.tr\"   # kendi mailini yaz\n"
      ],
      "metadata": {
        "id": "2rvTGHRlgBh2"
      },
      "execution_count": 19,
      "outputs": []
    },
    {
      "cell_type": "code",
      "source": [
        "# The line below uses the Entrez.einfo() function to\n",
        "# ask NCBI what databases are available. The result is\n",
        "# 'stored' in a variable called 'handle'\n",
        "handle = Entrez.einfo()\n",
        "\n",
        "# In the line below, the response from NCBI is read\n",
        "# into a record, that organises NCBI's response into\n",
        "# something you can work with.\n",
        "record = Entrez.read(handle)"
      ],
      "metadata": {
        "id": "I3zqUJ5pgE03"
      },
      "execution_count": 20,
      "outputs": []
    },
    {
      "cell_type": "code",
      "source": [
        "# TP53 gene araması\n",
        "handle = Entrez.esearch(db=\"gene\", term=\"7157[uid] AND Homo sapiens[orgn]\")\n",
        "record = Entrez.read(handle)\n",
        "print(record[\"IdList\"])   # ['7157'] görmelisin\n"
      ],
      "metadata": {
        "colab": {
          "base_uri": "https://localhost:8080/"
        },
        "id": "2-JWx0griRx0",
        "outputId": "e3ceb7b8-e4e0-4f45-e010-e20050a096b7"
      },
      "execution_count": 24,
      "outputs": [
        {
          "output_type": "stream",
          "name": "stdout",
          "text": [
            "['7157']\n"
          ]
        }
      ]
    },
    {
      "cell_type": "code",
      "source": [
        "# Gene özetinden kromozom ve koordinat bilgisi\n",
        "summ = Entrez.esummary(db=\"gene\", id=\"7157\")\n",
        "sd = Entrez.read(summ)\n",
        "\n",
        "# DocumentSummarySet içinden ilk kaydı al\n",
        "docsum = sd[\"DocumentSummarySet\"][\"DocumentSummary\"][0]\n",
        "\n",
        "# GenomicInfo içinden koordinatları çek\n",
        "gi = docsum[\"GenomicInfo\"][0]\n",
        "chr_acc = gi[\"ChrAccVer\"]     # NC_000017.11\n",
        "\n",
        "s = int(gi[\"ChrStart\"])\n",
        "e = int(gi[\"ChrStop\"])\n",
        "\n",
        "# efetch için 1-based → küçük olana +1 ekle\n",
        "seq_start = min(s, e) + 1\n",
        "seq_stop  = max(s, e)\n",
        "\n",
        "# gen ters iplikteyse (ChrStart > ChrStop) strand=2\n",
        "strand = 2 if s > e else 1\n",
        "\n",
        "print(\"Chrom:\", chr_acc,\n",
        "      \"seq_start:\", seq_start,\n",
        "      \"seq_stop:\", seq_stop,\n",
        "      \"strand:\", strand,\n",
        "      \"len:\", seq_stop - seq_start + 1)\n",
        "\n"
      ],
      "metadata": {
        "colab": {
          "base_uri": "https://localhost:8080/"
        },
        "id": "JvJZ50Waqb-G",
        "outputId": "f6c4e462-ef91-497c-bdd7-c40820ac2605"
      },
      "execution_count": 28,
      "outputs": [
        {
          "output_type": "stream",
          "name": "stdout",
          "text": [
            "Chrom: NC_000017.11 seq_start: 7668421 seq_stop: 7687489 strand: 2 len: 19069\n"
          ]
        }
      ]
    },
    {
      "cell_type": "code",
      "source": [
        "# Genomik DNA FASTA indir\n",
        "genomic_fasta = os.path.join(outdir, \"TP53_genomic_19070bp.fasta\")\n",
        "\n",
        "with Entrez.efetch(db=\"nuccore\", id=chr_acc, rettype=\"fasta\", retmode=\"text\",\n",
        "                   seq_start=seq_start, seq_stop=seq_stop, strand=strand) as h:\n",
        "    open(genomic_fasta, \"w\").write(h.read())\n",
        "\n",
        "# kontrol\n",
        "g_rec = next(SeqIO.parse(genomic_fasta, \"fasta\"))\n",
        "print(\"Genomic length:\", len(g_rec.seq), \"bp →\", genomic_fasta)\n"
      ],
      "metadata": {
        "colab": {
          "base_uri": "https://localhost:8080/"
        },
        "id": "A_o5V6yLvwaG",
        "outputId": "2ca67d3b-3c1b-45bc-e95d-dae0df0ffbe1"
      },
      "execution_count": 29,
      "outputs": [
        {
          "output_type": "stream",
          "name": "stdout",
          "text": [
            "Genomic length: 19069 bp → hw_2/TP53_genomic_19070bp.fasta\n"
          ]
        }
      ]
    },
    {
      "cell_type": "code",
      "source": [
        "# Ödevde istenen mRNA accession sabit:\n",
        "MRNA_ACC = \"NM_000546.6\"\n"
      ],
      "metadata": {
        "id": "o9v2bVhHz1tl"
      },
      "execution_count": 37,
      "outputs": []
    },
    {
      "cell_type": "code",
      "source": [
        "cds_fasta = os.path.join(outdir, \"TP53_CDS_1182bp.fasta\")\n",
        "\n",
        "# mRNA'nın GenBank kaydını indir\n",
        "with Entrez.efetch(db=\"nucleotide\", id=MRNA_ACC, rettype=\"gb\", retmode=\"text\") as h:\n",
        "    gb_rec = SeqIO.read(h, \"genbank\")\n",
        "\n",
        "# CDS feature'ını bul (TP53'te tek ana CDS olmalı)\n",
        "cds_feat = next(f for f in gb_rec.features if f.type == \"CDS\")\n",
        "cds_seq  = cds_feat.extract(gb_rec.seq)\n",
        "\n",
        "# FASTA'ya yaz\n",
        "SeqIO.write(\n",
        "    SeqIO.SeqRecord(cds_seq, id=f\"TP53_CDS_from_{MRNA_ACC}\", description=\"\"),\n",
        "    cds_fasta,\n",
        "    \"fasta\"\n",
        ")\n",
        "\n",
        "# kontrol\n",
        "c_rec = next(SeqIO.parse(cds_fasta, \"fasta\"))\n",
        "print(\"CDS length:\", len(c_rec.seq), \"bp →\", cds_fasta)\n"
      ],
      "metadata": {
        "colab": {
          "base_uri": "https://localhost:8080/"
        },
        "id": "vVdZI0ijx5Td",
        "outputId": "fc2c6d3d-7e26-47d2-8a80-95470cc5ba0b"
      },
      "execution_count": 38,
      "outputs": [
        {
          "output_type": "stream",
          "name": "stdout",
          "text": [
            "CDS length: 1182 bp → hw_2/TP53_CDS_1182bp.fasta\n"
          ]
        }
      ]
    },
    {
      "cell_type": "code",
      "source": [
        "combined_fasta = os.path.join(outdir, \"TP53_combined_genomic_mRNA_CDS.fasta\")\n",
        "\n",
        "records = []\n",
        "for fp in [genomic_fasta, mrna_fasta, cds_fasta]:\n",
        "    records.extend(list(SeqIO.parse(fp, \"fasta\")))\n",
        "\n",
        "SeqIO.write(records, combined_fasta, \"fasta\")\n",
        "print(\"Combined FASTA yazıldı:\", combined_fasta, \"| record count:\", len(records))\n"
      ],
      "metadata": {
        "colab": {
          "base_uri": "https://localhost:8080/"
        },
        "id": "xA35t-fhx-Qm",
        "outputId": "27fd4dec-538b-4bf4-d9de-daf4d7e08f8d"
      },
      "execution_count": 39,
      "outputs": [
        {
          "output_type": "stream",
          "name": "stdout",
          "text": [
            "Combined FASTA yazıldı: hw_2/TP53_combined_genomic_mRNA_CDS.fasta | record count: 3\n"
          ]
        }
      ]
    },
    {
      "cell_type": "code",
      "source": [
        "expected = {\"Genomic (~19070)\": 19070, \"mRNA v1\": 2512, \"CDS\": 1182}\n",
        "obs = {\"Genomic (~19070)\": len(g_rec.seq), \"mRNA v1\": len(m_rec.seq), \"CDS\": len(c_rec.seq)}\n",
        "\n",
        "for k in expected:\n",
        "    mark = \"OK\" if obs[k] == expected[k] else f\"⚠ {obs[k]} bp (expected {expected[k]})\"\n",
        "    print(f\"{k}: {mark}\")\n"
      ],
      "metadata": {
        "colab": {
          "base_uri": "https://localhost:8080/"
        },
        "id": "FfeX45xMyCBx",
        "outputId": "966cd689-9343-4e76-ad6f-be3929e0efc2"
      },
      "execution_count": 40,
      "outputs": [
        {
          "output_type": "stream",
          "name": "stdout",
          "text": [
            "Genomic (~19070): ⚠ 19069 bp (expected 19070)\n",
            "mRNA v1: OK\n",
            "CDS: OK\n"
          ]
        }
      ]
    },
    {
      "cell_type": "code",
      "source": [
        "# Her bir FASTA dosyasını ekranda göster (ilk 300 bp örnek)\n",
        "for f in [genomic_fasta, mrna_fasta, cds_fasta, combined_fasta]:\n",
        "    print(\"\\n=== \", f, \" ===\")\n",
        "    for record in SeqIO.parse(f, \"fasta\"):\n",
        "        print(\">\", record.id)\n",
        "        print(str(record.seq)[:300] + (\"...\" if len(record.seq) > 300 else \"\"))\n"
      ],
      "metadata": {
        "colab": {
          "base_uri": "https://localhost:8080/"
        },
        "id": "owwg8rWf0LA8",
        "outputId": "b9e6e348-6b02-4a23-cb84-8414a0e58655"
      },
      "execution_count": 42,
      "outputs": [
        {
          "output_type": "stream",
          "name": "stdout",
          "text": [
            "\n",
            "===  hw_2/TP53_genomic_19070bp.fasta  ===\n",
            "> NC_000017.11:c7687489-7668421\n",
            "TCAAAAGTCTAGAGCCACCGTCCAGGGAGCAGGTAGCTGCTGGGCTCCGGGGACACTTTGCGTTCGGGCTGGGAGCGTGCTTTCCACGACGGTGACACGCTTCCCTGGATTGGGTAAGCTCCTGACTGAACTTGATGAGTCCTCTCTGAGTCACGGGCTCTCGGCTCCGTGTATTTTCAGCTCGGGAAAATCGCTGGGGCTGGGGGTGGGGCAGTGGGGACTTAGCGAGTTTGGGGGTGAGTGGGATGGAAGCTTGGCTAGAGGGATCATCATAGGAGTTGCATTGTTGGGAGACCTGGG...\n",
            "\n",
            "===  hw_2/TP53_mRNA_variant1_2512bp.fasta  ===\n",
            "> NM_001276760.3\n",
            "CTCAAAAGTCTAGAGCCACCGTCCAGGGAGCAGGTAGCTGCTGGGCTCCGGGGACACTTTGCGTTCGGGCTGGGAGCGTGCTTTCCACGACGGTGACACGCTTCCCTGGATTGGCAGCCAGACTGCCTTCCGGGTCACTGCCATGGAGGAGCCGCAGTCAGATCCTAGCGTCGAGCCCCCTCTGAGTCAGGAAACATTTTCAGACCTATGGAAACTACTTCCTGAAAACAACGTTCTGTCCCCCTTGCCGTCCCAAGCAATGGATGATTTGATGCTGTCCCCGGACGATATTGAACAATG...\n",
            "\n",
            "===  hw_2/TP53_CDS_1182bp.fasta  ===\n",
            "> TP53_CDS_from_NM_000546.6\n",
            "ATGGAGGAGCCGCAGTCAGATCCTAGCGTCGAGCCCCCTCTGAGTCAGGAAACATTTTCAGACCTATGGAAACTACTTCCTGAAAACAACGTTCTGTCCCCCTTGCCGTCCCAAGCAATGGATGATTTGATGCTGTCCCCGGACGATATTGAACAATGGTTCACTGAAGACCCAGGTCCAGATGAAGCTCCCAGAATGCCAGAGGCTGCTCCCCCCGTGGCCCCTGCACCAGCAGCTCCTACACCGGCGGCCCCTGCACCAGCCCCCTCCTGGCCCCTGTCATCTTCTGTCCCTTCCCAG...\n",
            "\n",
            "===  hw_2/TP53_combined_genomic_mRNA_CDS.fasta  ===\n",
            "> NC_000017.11:c7687489-7668421\n",
            "TCAAAAGTCTAGAGCCACCGTCCAGGGAGCAGGTAGCTGCTGGGCTCCGGGGACACTTTGCGTTCGGGCTGGGAGCGTGCTTTCCACGACGGTGACACGCTTCCCTGGATTGGGTAAGCTCCTGACTGAACTTGATGAGTCCTCTCTGAGTCACGGGCTCTCGGCTCCGTGTATTTTCAGCTCGGGAAAATCGCTGGGGCTGGGGGTGGGGCAGTGGGGACTTAGCGAGTTTGGGGGTGAGTGGGATGGAAGCTTGGCTAGAGGGATCATCATAGGAGTTGCATTGTTGGGAGACCTGGG...\n",
            "> NM_001276760.3\n",
            "CTCAAAAGTCTAGAGCCACCGTCCAGGGAGCAGGTAGCTGCTGGGCTCCGGGGACACTTTGCGTTCGGGCTGGGAGCGTGCTTTCCACGACGGTGACACGCTTCCCTGGATTGGCAGCCAGACTGCCTTCCGGGTCACTGCCATGGAGGAGCCGCAGTCAGATCCTAGCGTCGAGCCCCCTCTGAGTCAGGAAACATTTTCAGACCTATGGAAACTACTTCCTGAAAACAACGTTCTGTCCCCCTTGCCGTCCCAAGCAATGGATGATTTGATGCTGTCCCCGGACGATATTGAACAATG...\n",
            "> TP53_CDS_from_NM_000546.6\n",
            "ATGGAGGAGCCGCAGTCAGATCCTAGCGTCGAGCCCCCTCTGAGTCAGGAAACATTTTCAGACCTATGGAAACTACTTCCTGAAAACAACGTTCTGTCCCCCTTGCCGTCCCAAGCAATGGATGATTTGATGCTGTCCCCGGACGATATTGAACAATGGTTCACTGAAGACCCAGGTCCAGATGAAGCTCCCAGAATGCCAGAGGCTGCTCCCCCCGTGGCCCCTGCACCAGCAGCTCCTACACCGGCGGCCCCTGCACCAGCCCCCTCCTGGCCCCTGTCATCTTCTGTCCCTTCCCAG...\n"
          ]
        }
      ]
    },
    {
      "cell_type": "code",
      "source": [
        "from google.colab import files\n",
        "\n",
        "files.download(combined_fasta)   # TP53_combined_genomic_mRNA_CDS.fasta dosyasını indirir\n"
      ],
      "metadata": {
        "colab": {
          "base_uri": "https://localhost:8080/",
          "height": 17
        },
        "id": "zBQaELFW0Msm",
        "outputId": "f4a78ef5-bfb3-42e4-8ebc-c879c1c6ece6"
      },
      "execution_count": 43,
      "outputs": [
        {
          "output_type": "display_data",
          "data": {
            "text/plain": [
              "<IPython.core.display.Javascript object>"
            ],
            "application/javascript": [
              "\n",
              "    async function download(id, filename, size) {\n",
              "      if (!google.colab.kernel.accessAllowed) {\n",
              "        return;\n",
              "      }\n",
              "      const div = document.createElement('div');\n",
              "      const label = document.createElement('label');\n",
              "      label.textContent = `Downloading \"${filename}\": `;\n",
              "      div.appendChild(label);\n",
              "      const progress = document.createElement('progress');\n",
              "      progress.max = size;\n",
              "      div.appendChild(progress);\n",
              "      document.body.appendChild(div);\n",
              "\n",
              "      const buffers = [];\n",
              "      let downloaded = 0;\n",
              "\n",
              "      const channel = await google.colab.kernel.comms.open(id);\n",
              "      // Send a message to notify the kernel that we're ready.\n",
              "      channel.send({})\n",
              "\n",
              "      for await (const message of channel.messages) {\n",
              "        // Send a message to notify the kernel that we're ready.\n",
              "        channel.send({})\n",
              "        if (message.buffers) {\n",
              "          for (const buffer of message.buffers) {\n",
              "            buffers.push(buffer);\n",
              "            downloaded += buffer.byteLength;\n",
              "            progress.value = downloaded;\n",
              "          }\n",
              "        }\n",
              "      }\n",
              "      const blob = new Blob(buffers, {type: 'application/binary'});\n",
              "      const a = document.createElement('a');\n",
              "      a.href = window.URL.createObjectURL(blob);\n",
              "      a.download = filename;\n",
              "      div.appendChild(a);\n",
              "      a.click();\n",
              "      div.remove();\n",
              "    }\n",
              "  "
            ]
          },
          "metadata": {}
        },
        {
          "output_type": "display_data",
          "data": {
            "text/plain": [
              "<IPython.core.display.Javascript object>"
            ],
            "application/javascript": [
              "download(\"download_08d4aced-4ddf-4697-a390-a3a506dd6080\", \"TP53_combined_genomic_mRNA_CDS.fasta\", 23339)"
            ]
          },
          "metadata": {}
        }
      ]
    }
  ]
}