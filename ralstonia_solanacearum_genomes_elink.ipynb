{
  "cells": [
    {
      "cell_type": "markdown",
      "metadata": {
        "id": "view-in-github",
        "colab_type": "text"
      },
      "source": [
        "<a href=\"https://colab.research.google.com/github/mervekldrm/bioinformatics/blob/main/ralstonia_solanacearum_genomes_elink.ipynb\" target=\"_parent\"><img src=\"https://colab.research.google.com/assets/colab-badge.svg\" alt=\"Open In Colab\"/></a>"
      ]
    },
    {
      "cell_type": "code",
      "execution_count": 9,
      "id": "383f0c93",
      "metadata": {
        "id": "383f0c93"
      },
      "outputs": [],
      "source": [
        "\n",
        "# If running in Colab, ensure Biopython is installed\n",
        "!pip -q install biopython\n"
      ]
    },
    {
      "cell_type": "code",
      "execution_count": 8,
      "id": "92f06713",
      "metadata": {
        "id": "92f06713"
      },
      "outputs": [],
      "source": [
        "\n",
        "from Bio import Entrez\n",
        "from Bio import SeqIO\n",
        "from pathlib import Path\n",
        "\n",
        "# --- REQUIRED: Fill in your email (NCBI requires a valid email) ---\n",
        "Entrez.email = \"mervekaldirim@posta.mu.edu.tr\"\n",
        "\n",
        "# Optional: If you have an NCBI API key, uncomment and set it to speed up requests\n",
        "# Entrez.api_key = \"YOUR_NCBI_API_KEY\"\n",
        "\n",
        "out_fasta = Path(\"/content/R_solanacearum_genomes.fasta\")\n"
      ]
    },
    {
      "cell_type": "markdown",
      "id": "df247960",
      "metadata": {
        "id": "df247960"
      },
      "source": [
        "## 1) Get the Taxonomy ID for *Ralstonia solanacearum*"
      ]
    },
    {
      "cell_type": "code",
      "execution_count": 10,
      "id": "333067e4",
      "metadata": {
        "colab": {
          "base_uri": "https://localhost:8080/"
        },
        "id": "333067e4",
        "outputId": "e688f4ec-56fb-4a72-f958-edae55675cc9"
      },
      "outputs": [
        {
          "output_type": "stream",
          "name": "stdout",
          "text": [
            "TaxID: 305\n"
          ]
        }
      ],
      "source": [
        "\n",
        "from xml.etree import ElementTree as ET\n",
        "\n",
        "term = \"Ralstonia solanacearum[Scientific Name]\"\n",
        "with Entrez.esearch(db=\"taxonomy\", term=term, retmode=\"xml\") as handle:\n",
        "    tx = Entrez.read(handle)\n",
        "\n",
        "if not tx[\"IdList\"]:\n",
        "    raise RuntimeError(\"No taxonomy ID found for Ralstonia solanacearum.\")\n",
        "\n",
        "tax_id = tx[\"IdList\"][0]\n",
        "print(\"TaxID:\", tax_id)\n"
      ]
    },
    {
      "cell_type": "markdown",
      "id": "f661f778",
      "metadata": {
        "id": "f661f778"
      },
      "source": [
        "## 2) Use `Entrez.elink` from Taxonomy ➜ Nuccore"
      ]
    },
    {
      "cell_type": "code",
      "execution_count": 11,
      "id": "5d8bb398",
      "metadata": {
        "colab": {
          "base_uri": "https://localhost:8080/"
        },
        "id": "5d8bb398",
        "outputId": "a493956e-e642-4e29-c310-7cb5ac4f005a"
      },
      "outputs": [
        {
          "output_type": "stream",
          "name": "stdout",
          "text": [
            "Total linked nuccore IDs: 63149\n",
            "Unique nuccore IDs: 63149\n"
          ]
        }
      ],
      "source": [
        "\n",
        "# We link from taxonomy to nuccore to get all nucleotide records associated with this taxon.\n",
        "# `linkname=\"taxonomy_nuccore\"` is the standard link for Taxonomy ➜ Nuccore.\n",
        "linked_ids = []\n",
        "\n",
        "with Entrez.elink(dbfrom=\"taxonomy\", db=\"nuccore\", id=tax_id, linkname=\"taxonomy_nuccore\", retmode=\"xml\") as handle:\n",
        "    linkset = Entrez.read(handle)\n",
        "\n",
        "# Collect all linked UIDs\n",
        "for linksetdb in linkset[0].get(\"LinkSetDb\", []):\n",
        "    if linksetdb.get(\"DbTo\") == \"nuccore\":\n",
        "        linked_ids.extend([lnk[\"Id\"] for lnk in linksetdb.get(\"Link\", [])])\n",
        "\n",
        "print(f\"Total linked nuccore IDs: {len(linked_ids)}\")\n",
        "\n",
        "# Optional sanity check: deduplicate and keep as strings\n",
        "linked_ids = list(dict.fromkeys(linked_ids))\n",
        "print(f\"Unique nuccore IDs: {len(linked_ids)}\")\n",
        "\n",
        "# If you want to *roughly* restrict to \"genome\" entries, you can filter via ESummary titles.\n",
        "# Some projects prefer *not* to filter and deliver all linked nuccore records for the taxon.\n",
        "FILTER_FOR_GENOME_TITLES = True\n"
      ]
    },
    {
      "cell_type": "markdown",
      "id": "89e1913c",
      "metadata": {
        "id": "89e1913c"
      },
      "source": [
        "### (Optional) Filter for records with 'genome' in the title"
      ]
    },
    {
      "cell_type": "code",
      "execution_count": 5,
      "id": "804da84a",
      "metadata": {
        "colab": {
          "base_uri": "https://localhost:8080/"
        },
        "id": "804da84a",
        "outputId": "8cb4c62f-c151-4928-dbd7-d0c43ab09813"
      },
      "outputs": [
        {
          "output_type": "stream",
          "name": "stdout",
          "text": [
            "Filtering for 'genome' in titles via ESummary...\n",
            "Kept 46693 of 63149 linked records that look like genome entries.\n",
            "Target ID count: 46693\n"
          ]
        }
      ],
      "source": [
        "\n",
        "def filter_for_genome_titles(id_list, chunk_size=200):\n",
        "    kept = []\n",
        "    for i in range(0, len(id_list), chunk_size):\n",
        "        chunk = id_list[i:i+chunk_size]\n",
        "        with Entrez.esummary(db=\"nuccore\", id=\",\".join(chunk), retmode=\"xml\") as h:\n",
        "            summ = Entrez.read(h)\n",
        "        for doc in summ:\n",
        "            title = doc.get(\"Title\", \"\") or \"\"\n",
        "            # Keep entries that look like genome-level sequences.\n",
        "            if \"genome\" in title.lower():\n",
        "                kept.append(doc[\"Id\"])\n",
        "    return kept\n",
        "\n",
        "if FILTER_FOR_GENOME_TITLES:\n",
        "    print(\"Filtering for 'genome' in titles via ESummary...\")\n",
        "    filtered_ids = filter_for_genome_titles(linked_ids)\n",
        "    print(f\"Kept {len(filtered_ids)} of {len(linked_ids)} linked records that look like genome entries.\")\n",
        "    target_ids = filtered_ids if filtered_ids else linked_ids\n",
        "else:\n",
        "    target_ids = linked_ids\n",
        "\n",
        "print(f\"Target ID count: {len(target_ids)}\")\n",
        "if not target_ids:\n",
        "    raise RuntimeError(\"No target IDs to fetch. Try setting FILTER_FOR_GENOME_TITLES=False to include all linked nuccore records.\")\n"
      ]
    },
    {
      "cell_type": "markdown",
      "id": "9d402b83",
      "metadata": {
        "id": "9d402b83"
      },
      "source": [
        "## 3) Fetch sequences and write a single FASTA file"
      ]
    },
    {
      "cell_type": "code",
      "execution_count": 6,
      "id": "c9c5d530",
      "metadata": {
        "colab": {
          "base_uri": "https://localhost:8080/"
        },
        "id": "c9c5d530",
        "outputId": "b538e590-8d29-41bb-bbb4-c9a630b9c178"
      },
      "outputs": [
        {
          "output_type": "stream",
          "name": "stdout",
          "text": [
            "Fetched & appended batch with 200 IDs. Total sequences written so far: 198\n",
            "Fetched & appended batch with 200 IDs. Total sequences written so far: 396\n",
            "Fetched & appended batch with 200 IDs. Total sequences written so far: 594\n",
            "Fetched & appended batch with 200 IDs. Total sequences written so far: 792\n",
            "Fetched & appended batch with 200 IDs. Total sequences written so far: 990\n",
            "Fetched & appended batch with 200 IDs. Total sequences written so far: 1189\n",
            "Fetched & appended batch with 200 IDs. Total sequences written so far: 1387\n",
            "Fetched & appended batch with 200 IDs. Total sequences written so far: 1585\n",
            "Fetched & appended batch with 200 IDs. Total sequences written so far: 1783\n",
            "Fetched & appended batch with 200 IDs. Total sequences written so far: 1981\n",
            "Fetched & appended batch with 200 IDs. Total sequences written so far: 2179\n",
            "Fetched & appended batch with 200 IDs. Total sequences written so far: 2377\n",
            "Fetched & appended batch with 200 IDs. Total sequences written so far: 2576\n",
            "Fetched & appended batch with 200 IDs. Total sequences written so far: 2774\n",
            "Fetched & appended batch with 200 IDs. Total sequences written so far: 2972\n",
            "Fetched & appended batch with 200 IDs. Total sequences written so far: 3170\n",
            "Fetched & appended batch with 200 IDs. Total sequences written so far: 3368\n",
            "Fetched & appended batch with 200 IDs. Total sequences written so far: 3566\n",
            "Fetched & appended batch with 200 IDs. Total sequences written so far: 3764\n",
            "Fetched & appended batch with 200 IDs. Total sequences written so far: 3963\n",
            "Fetched & appended batch with 200 IDs. Total sequences written so far: 4161\n",
            "Fetched & appended batch with 200 IDs. Total sequences written so far: 4359\n",
            "Fetched & appended batch with 200 IDs. Total sequences written so far: 4557\n",
            "Fetched & appended batch with 200 IDs. Total sequences written so far: 4756\n",
            "Fetched & appended batch with 200 IDs. Total sequences written so far: 4954\n",
            "Fetched & appended batch with 200 IDs. Total sequences written so far: 5152\n",
            "Fetched & appended batch with 200 IDs. Total sequences written so far: 5350\n",
            "Fetched & appended batch with 200 IDs. Total sequences written so far: 5548\n",
            "Fetched & appended batch with 200 IDs. Total sequences written so far: 5746\n",
            "Fetched & appended batch with 200 IDs. Total sequences written so far: 5945\n",
            "Fetched & appended batch with 200 IDs. Total sequences written so far: 6143\n",
            "Fetched & appended batch with 200 IDs. Total sequences written so far: 6341\n",
            "Fetched & appended batch with 200 IDs. Total sequences written so far: 6539\n",
            "Fetched & appended batch with 200 IDs. Total sequences written so far: 6737\n",
            "Fetched & appended batch with 200 IDs. Total sequences written so far: 6935\n",
            "Fetched & appended batch with 200 IDs. Total sequences written so far: 7133\n",
            "Fetched & appended batch with 200 IDs. Total sequences written so far: 7332\n",
            "Fetched & appended batch with 200 IDs. Total sequences written so far: 7530\n",
            "Fetched & appended batch with 200 IDs. Total sequences written so far: 7728\n",
            "Fetched & appended batch with 200 IDs. Total sequences written so far: 7926\n",
            "Fetched & appended batch with 200 IDs. Total sequences written so far: 8124\n",
            "Fetched & appended batch with 200 IDs. Total sequences written so far: 8322\n",
            "Fetched & appended batch with 200 IDs. Total sequences written so far: 8521\n",
            "Fetched & appended batch with 200 IDs. Total sequences written so far: 8719\n",
            "Fetched & appended batch with 200 IDs. Total sequences written so far: 8917\n",
            "Fetched & appended batch with 200 IDs. Total sequences written so far: 9115\n",
            "Fetched & appended batch with 200 IDs. Total sequences written so far: 9313\n",
            "Fetched & appended batch with 200 IDs. Total sequences written so far: 9511\n",
            "Fetched & appended batch with 200 IDs. Total sequences written so far: 9710\n",
            "Fetched & appended batch with 200 IDs. Total sequences written so far: 9908\n",
            "Fetched & appended batch with 200 IDs. Total sequences written so far: 10106\n",
            "Fetched & appended batch with 200 IDs. Total sequences written so far: 10304\n",
            "Fetched & appended batch with 200 IDs. Total sequences written so far: 10502\n",
            "Fetched & appended batch with 200 IDs. Total sequences written so far: 10600\n",
            "Fetched & appended batch with 200 IDs. Total sequences written so far: 10797\n",
            "Fetched & appended batch with 200 IDs. Total sequences written so far: 10996\n",
            "Fetched & appended batch with 200 IDs. Total sequences written so far: 11189\n",
            "Fetched & appended batch with 200 IDs. Total sequences written so far: 11386\n",
            "Fetched & appended batch with 200 IDs. Total sequences written so far: 11581\n",
            "Fetched & appended batch with 200 IDs. Total sequences written so far: 11779\n",
            "Fetched & appended batch with 200 IDs. Total sequences written so far: 11978\n",
            "Fetched & appended batch with 200 IDs. Total sequences written so far: 12176\n",
            "Fetched & appended batch with 200 IDs. Total sequences written so far: 12375\n",
            "Fetched & appended batch with 200 IDs. Total sequences written so far: 12573\n",
            "Fetched & appended batch with 200 IDs. Total sequences written so far: 12772\n",
            "Fetched & appended batch with 200 IDs. Total sequences written so far: 12970\n",
            "Fetched & appended batch with 200 IDs. Total sequences written so far: 13169\n",
            "Fetched & appended batch with 200 IDs. Total sequences written so far: 13368\n",
            "Fetched & appended batch with 200 IDs. Total sequences written so far: 13566\n",
            "Fetched & appended batch with 200 IDs. Total sequences written so far: 13765\n",
            "Fetched & appended batch with 200 IDs. Total sequences written so far: 13963\n",
            "Fetched & appended batch with 200 IDs. Total sequences written so far: 14162\n",
            "Fetched & appended batch with 200 IDs. Total sequences written so far: 14360\n",
            "Fetched & appended batch with 200 IDs. Total sequences written so far: 14559\n",
            "Fetched & appended batch with 200 IDs. Total sequences written so far: 14757\n",
            "Fetched & appended batch with 200 IDs. Total sequences written so far: 14931\n",
            "Fetched & appended batch with 200 IDs. Total sequences written so far: 15130\n",
            "Fetched & appended batch with 200 IDs. Total sequences written so far: 15327\n",
            "Fetched & appended batch with 200 IDs. Total sequences written so far: 15525\n",
            "Fetched & appended batch with 200 IDs. Total sequences written so far: 15722\n",
            "Fetched & appended batch with 200 IDs. Total sequences written so far: 15921\n",
            "Fetched & appended batch with 200 IDs. Total sequences written so far: 16119\n",
            "Fetched & appended batch with 200 IDs. Total sequences written so far: 16315\n",
            "Fetched & appended batch with 200 IDs. Total sequences written so far: 16513\n",
            "Fetched & appended batch with 200 IDs. Total sequences written so far: 16711\n",
            "Fetched & appended batch with 200 IDs. Total sequences written so far: 16896\n",
            "Fetched & appended batch with 200 IDs. Total sequences written so far: 17095\n",
            "Fetched & appended batch with 200 IDs. Total sequences written so far: 17293\n",
            "Fetched & appended batch with 200 IDs. Total sequences written so far: 17490\n",
            "Fetched & appended batch with 200 IDs. Total sequences written so far: 17689\n",
            "Fetched & appended batch with 200 IDs. Total sequences written so far: 17889\n",
            "Fetched & appended batch with 200 IDs. Total sequences written so far: 18088\n",
            "Fetched & appended batch with 200 IDs. Total sequences written so far: 18288\n",
            "Fetched & appended batch with 200 IDs. Total sequences written so far: 18486\n",
            "Fetched & appended batch with 200 IDs. Total sequences written so far: 18685\n",
            "Fetched & appended batch with 200 IDs. Total sequences written so far: 18883\n",
            "Fetched & appended batch with 200 IDs. Total sequences written so far: 19083\n",
            "Fetched & appended batch with 200 IDs. Total sequences written so far: 19268\n",
            "Fetched & appended batch with 200 IDs. Total sequences written so far: 19464\n",
            "Fetched & appended batch with 200 IDs. Total sequences written so far: 19662\n",
            "Fetched & appended batch with 200 IDs. Total sequences written so far: 19860\n",
            "Fetched & appended batch with 200 IDs. Total sequences written so far: 20059\n",
            "Fetched & appended batch with 200 IDs. Total sequences written so far: 20234\n",
            "Fetched & appended batch with 200 IDs. Total sequences written so far: 20318\n",
            "Fetched & appended batch with 200 IDs. Total sequences written so far: 20513\n",
            "Fetched & appended batch with 200 IDs. Total sequences written so far: 20712\n",
            "Fetched & appended batch with 200 IDs. Total sequences written so far: 20911\n",
            "Fetched & appended batch with 200 IDs. Total sequences written so far: 21110\n",
            "Fetched & appended batch with 200 IDs. Total sequences written so far: 21309\n",
            "Fetched & appended batch with 200 IDs. Total sequences written so far: 21509\n",
            "Fetched & appended batch with 200 IDs. Total sequences written so far: 21708\n",
            "Fetched & appended batch with 200 IDs. Total sequences written so far: 21906\n",
            "Fetched & appended batch with 200 IDs. Total sequences written so far: 22105\n",
            "Fetched & appended batch with 200 IDs. Total sequences written so far: 22304\n",
            "Fetched & appended batch with 200 IDs. Total sequences written so far: 22503\n",
            "Fetched & appended batch with 200 IDs. Total sequences written so far: 22701\n",
            "Fetched & appended batch with 200 IDs. Total sequences written so far: 22901\n",
            "Fetched & appended batch with 200 IDs. Total sequences written so far: 23100\n",
            "Fetched & appended batch with 200 IDs. Total sequences written so far: 23299\n",
            "Fetched & appended batch with 200 IDs. Total sequences written so far: 23498\n",
            "Fetched & appended batch with 200 IDs. Total sequences written so far: 23696\n",
            "Fetched & appended batch with 200 IDs. Total sequences written so far: 23895\n",
            "Fetched & appended batch with 200 IDs. Total sequences written so far: 24094\n",
            "Fetched & appended batch with 200 IDs. Total sequences written so far: 24292\n",
            "Fetched & appended batch with 200 IDs. Total sequences written so far: 24492\n",
            "Fetched & appended batch with 200 IDs. Total sequences written so far: 24691\n",
            "Fetched & appended batch with 200 IDs. Total sequences written so far: 24890\n",
            "Fetched & appended batch with 200 IDs. Total sequences written so far: 25089\n",
            "Fetched & appended batch with 200 IDs. Total sequences written so far: 25288\n",
            "Fetched & appended batch with 200 IDs. Total sequences written so far: 25487\n",
            "Fetched & appended batch with 200 IDs. Total sequences written so far: 25686\n",
            "Fetched & appended batch with 200 IDs. Total sequences written so far: 25885\n",
            "Fetched & appended batch with 200 IDs. Total sequences written so far: 26083\n",
            "Fetched & appended batch with 200 IDs. Total sequences written so far: 26281\n",
            "Fetched & appended batch with 200 IDs. Total sequences written so far: 26480\n",
            "Fetched & appended batch with 200 IDs. Total sequences written so far: 26679\n",
            "Fetched & appended batch with 200 IDs. Total sequences written so far: 26878\n",
            "Fetched & appended batch with 200 IDs. Total sequences written so far: 27076\n",
            "Fetched & appended batch with 200 IDs. Total sequences written so far: 27275\n",
            "Fetched & appended batch with 200 IDs. Total sequences written so far: 27475\n",
            "Fetched & appended batch with 200 IDs. Total sequences written so far: 27674\n",
            "Fetched & appended batch with 200 IDs. Total sequences written so far: 27873\n",
            "Fetched & appended batch with 200 IDs. Total sequences written so far: 28072\n",
            "Fetched & appended batch with 200 IDs. Total sequences written so far: 28271\n",
            "Fetched & appended batch with 200 IDs. Total sequences written so far: 28471\n",
            "Fetched & appended batch with 200 IDs. Total sequences written so far: 28670\n",
            "Fetched & appended batch with 200 IDs. Total sequences written so far: 28868\n",
            "Fetched & appended batch with 200 IDs. Total sequences written so far: 29066\n",
            "Fetched & appended batch with 200 IDs. Total sequences written so far: 29265\n",
            "Fetched & appended batch with 200 IDs. Total sequences written so far: 29463\n",
            "Fetched & appended batch with 200 IDs. Total sequences written so far: 29661\n",
            "Fetched & appended batch with 200 IDs. Total sequences written so far: 29861\n",
            "Fetched & appended batch with 200 IDs. Total sequences written so far: 30060\n",
            "Fetched & appended batch with 200 IDs. Total sequences written so far: 30259\n",
            "Fetched & appended batch with 200 IDs. Total sequences written so far: 30457\n",
            "Fetched & appended batch with 200 IDs. Total sequences written so far: 30656\n",
            "Fetched & appended batch with 200 IDs. Total sequences written so far: 30855\n",
            "Fetched & appended batch with 200 IDs. Total sequences written so far: 31054\n",
            "Fetched & appended batch with 200 IDs. Total sequences written so far: 31253\n",
            "Fetched & appended batch with 200 IDs. Total sequences written so far: 31453\n",
            "Fetched & appended batch with 200 IDs. Total sequences written so far: 31653\n",
            "Fetched & appended batch with 200 IDs. Total sequences written so far: 31852\n",
            "Fetched & appended batch with 200 IDs. Total sequences written so far: 31981\n",
            "Fetched & appended batch with 200 IDs. Total sequences written so far: 32150\n",
            "Fetched & appended batch with 200 IDs. Total sequences written so far: 32348\n",
            "Fetched & appended batch with 200 IDs. Total sequences written so far: 32547\n",
            "Fetched & appended batch with 200 IDs. Total sequences written so far: 32747\n",
            "Fetched & appended batch with 200 IDs. Total sequences written so far: 32947\n",
            "Fetched & appended batch with 200 IDs. Total sequences written so far: 33146\n",
            "Fetched & appended batch with 200 IDs. Total sequences written so far: 33346\n",
            "Fetched & appended batch with 200 IDs. Total sequences written so far: 33546\n",
            "Fetched & appended batch with 200 IDs. Total sequences written so far: 33746\n",
            "Fetched & appended batch with 200 IDs. Total sequences written so far: 33946\n",
            "Fetched & appended batch with 200 IDs. Total sequences written so far: 34146\n",
            "Fetched & appended batch with 200 IDs. Total sequences written so far: 34346\n",
            "Fetched & appended batch with 200 IDs. Total sequences written so far: 34546\n",
            "Fetched & appended batch with 200 IDs. Total sequences written so far: 34745\n",
            "Fetched & appended batch with 200 IDs. Total sequences written so far: 34944\n",
            "Fetched & appended batch with 200 IDs. Total sequences written so far: 35143\n",
            "Fetched & appended batch with 200 IDs. Total sequences written so far: 35343\n",
            "Fetched & appended batch with 200 IDs. Total sequences written so far: 35543\n",
            "Fetched & appended batch with 200 IDs. Total sequences written so far: 35743\n",
            "Fetched & appended batch with 200 IDs. Total sequences written so far: 35943\n",
            "Fetched & appended batch with 200 IDs. Total sequences written so far: 36143\n",
            "Fetched & appended batch with 200 IDs. Total sequences written so far: 36341\n",
            "Fetched & appended batch with 200 IDs. Total sequences written so far: 36540\n",
            "Fetched & appended batch with 200 IDs. Total sequences written so far: 36738\n",
            "Fetched & appended batch with 200 IDs. Total sequences written so far: 36935\n",
            "Fetched & appended batch with 200 IDs. Total sequences written so far: 37134\n",
            "Fetched & appended batch with 200 IDs. Total sequences written so far: 37333\n",
            "Fetched & appended batch with 200 IDs. Total sequences written so far: 37532\n",
            "Fetched & appended batch with 200 IDs. Total sequences written so far: 37729\n",
            "Fetched & appended batch with 200 IDs. Total sequences written so far: 37928\n",
            "Fetched & appended batch with 200 IDs. Total sequences written so far: 38125\n",
            "Fetched & appended batch with 200 IDs. Total sequences written so far: 38325\n",
            "Fetched & appended batch with 200 IDs. Total sequences written so far: 38524\n",
            "Fetched & appended batch with 200 IDs. Total sequences written so far: 38723\n",
            "Fetched & appended batch with 200 IDs. Total sequences written so far: 38922\n",
            "Fetched & appended batch with 200 IDs. Total sequences written so far: 39122\n",
            "Fetched & appended batch with 200 IDs. Total sequences written so far: 39322\n",
            "Fetched & appended batch with 200 IDs. Total sequences written so far: 39521\n",
            "Fetched & appended batch with 200 IDs. Total sequences written so far: 39721\n",
            "Fetched & appended batch with 200 IDs. Total sequences written so far: 39919\n",
            "Fetched & appended batch with 200 IDs. Total sequences written so far: 40118\n",
            "Fetched & appended batch with 200 IDs. Total sequences written so far: 40317\n",
            "Fetched & appended batch with 200 IDs. Total sequences written so far: 40517\n",
            "Fetched & appended batch with 200 IDs. Total sequences written so far: 40716\n",
            "Fetched & appended batch with 200 IDs. Total sequences written so far: 40913\n",
            "Fetched & appended batch with 200 IDs. Total sequences written so far: 41113\n",
            "Fetched & appended batch with 200 IDs. Total sequences written so far: 41311\n",
            "Fetched & appended batch with 200 IDs. Total sequences written so far: 41509\n",
            "Fetched & appended batch with 200 IDs. Total sequences written so far: 41708\n",
            "Fetched & appended batch with 200 IDs. Total sequences written so far: 41907\n",
            "Fetched & appended batch with 200 IDs. Total sequences written so far: 42105\n",
            "Fetched & appended batch with 200 IDs. Total sequences written so far: 42305\n",
            "Fetched & appended batch with 200 IDs. Total sequences written so far: 42504\n",
            "Fetched & appended batch with 200 IDs. Total sequences written so far: 42703\n",
            "Fetched & appended batch with 200 IDs. Total sequences written so far: 42902\n",
            "Fetched & appended batch with 200 IDs. Total sequences written so far: 43095\n",
            "Fetched & appended batch with 200 IDs. Total sequences written so far: 43294\n",
            "Fetched & appended batch with 200 IDs. Total sequences written so far: 43493\n",
            "Fetched & appended batch with 200 IDs. Total sequences written so far: 43679\n",
            "Fetched & appended batch with 200 IDs. Total sequences written so far: 43879\n",
            "Fetched & appended batch with 200 IDs. Total sequences written so far: 44079\n",
            "Fetched & appended batch with 200 IDs. Total sequences written so far: 44279\n",
            "Fetched & appended batch with 200 IDs. Total sequences written so far: 44478\n",
            "Fetched & appended batch with 200 IDs. Total sequences written so far: 44677\n",
            "Fetched & appended batch with 200 IDs. Total sequences written so far: 44868\n",
            "Fetched & appended batch with 200 IDs. Total sequences written so far: 45068\n",
            "Fetched & appended batch with 200 IDs. Total sequences written so far: 45268\n",
            "Fetched & appended batch with 200 IDs. Total sequences written so far: 45467\n",
            "Fetched & appended batch with 200 IDs. Total sequences written so far: 45666\n",
            "Fetched & appended batch with 200 IDs. Total sequences written so far: 45865\n",
            "Fetched & appended batch with 93 IDs. Total sequences written so far: 45958\n",
            "\n",
            "Done.\n",
            "FASTA saved to: /content/R_solanacearum_genomes.fasta\n",
            "Approximate record count (headers): 45958\n"
          ]
        }
      ],
      "source": [
        "\n",
        "def batched(iterable, n):\n",
        "    for i in range(0, len(iterable), n):\n",
        "        yield iterable[i:i+n]\n",
        "\n",
        "# Write/overwrite FASTA\n",
        "out_fasta.write_text(\"\")\n",
        "\n",
        "batch_size = 200  # reasonable batch for efetch\n",
        "count_written = 0\n",
        "\n",
        "for batch in batched(target_ids, batch_size):\n",
        "    with Entrez.efetch(db=\"nuccore\", id=\",\".join(batch), rettype=\"fasta\", retmode=\"text\") as handle:\n",
        "        fasta_chunk = handle.read()\n",
        "    # Some batches may include non-sequence placeholders; guard by simple heuristic:\n",
        "    if fasta_chunk.strip():\n",
        "        with out_fasta.open(\"a\") as f:\n",
        "            f.write(fasta_chunk)\n",
        "        # Count sequences by '>' lines\n",
        "        count_written += fasta_chunk.count(\"\\n>\") + (1 if fasta_chunk.startswith(\">\") else 0)\n",
        "    print(f\"Fetched & appended batch with {len(batch)} IDs. Total sequences written so far: {count_written}\")\n",
        "\n",
        "print(\"\\nDone.\")\n",
        "print(\"FASTA saved to:\", out_fasta)\n",
        "print(\"Approximate record count (headers):\", count_written)\n"
      ]
    },
    {
      "cell_type": "markdown",
      "id": "272d2e7a",
      "metadata": {
        "id": "272d2e7a"
      },
      "source": [
        "## 4) Quick verification"
      ]
    },
    {
      "cell_type": "code",
      "execution_count": 7,
      "id": "dec173cc",
      "metadata": {
        "colab": {
          "base_uri": "https://localhost:8080/"
        },
        "id": "dec173cc",
        "outputId": "5ce876b0-769e-4a44-e0fd-5367935516ee"
      },
      "outputs": [
        {
          "output_type": "stream",
          "name": "stdout",
          "text": [
            "\n",
            ">CBINGP010000001.1 MAG TPA_asm: Ralstonia solanacearum isolate SRR16817036_concoct_32 genome assembly, contig: ERZ27393611.2, whole genome shotgun sequence\n",
            "CCAAACCAAACCAAACCAAACCAAACCACCATCAGCCAAACACCAACGCCCCCCACAAAGTTTGCACACA\n",
            "CTCCCACAACAACCCTCATGCCTCATACATCAACGCACGAACCCCAAGCCTTCTAGAGCCCCCCCTCGAA\n",
            "TTGCGACCTTGGCGTTTTAAAACATCCGTTCCTAACATGCCCGCACCACCCAATACATACGTTTGAATCG\n",
            "TACGTTCGAGCGCTGCACCGCAGCAATGGAACGCGTGATCGGCCCCCAAAACAACGAGGCAGGAGACATG\n",
            "GCCCGTCCTGGCGCAGGAGACACCAAGAACCGCATTCTGGAAGCCACCGAACTGCTGTTCATCGAGTTCG\n",
            "GCTACGAGGCGATGTCGTTGCGGCAGATCACGGCGCGCGCCAAGGTCAACCTGGCCGCCGTCAACTATCA\n",
            "CTTCGGCAGCAAGGAAGCGCTGATGCAGTCGGTGCTCGGCCGCCGGCTCGACCCGCTCAACACGCGCCGG\n",
            "CTGGCGCTGCTGACCGCGTGCGAGGAGCGCTGGCCGCAGCGGCTGAGCTGCGAGCATGTGCTGGGCGCGC\n"
          ]
        }
      ],
      "source": [
        "\n",
        "# Show first 10 lines of the resulting FASTA file to verify\n",
        "print(\"\\n\".join(out_fasta.read_text().splitlines()[:10]))\n"
      ]
    },
    {
      "cell_type": "code",
      "source": [
        "from google.colab import files\n",
        "\n",
        "files.download(\"/content/R_solanacearum_genomes.fasta\")\n"
      ],
      "metadata": {
        "colab": {
          "base_uri": "https://localhost:8080/",
          "height": 34
        },
        "id": "u07xrlqH8LD6",
        "outputId": "c0745a93-df11-4f68-8c28-7ca5b1194879"
      },
      "id": "u07xrlqH8LD6",
      "execution_count": 12,
      "outputs": [
        {
          "output_type": "display_data",
          "data": {
            "text/plain": [
              "<IPython.core.display.Javascript object>"
            ],
            "application/javascript": [
              "\n",
              "    async function download(id, filename, size) {\n",
              "      if (!google.colab.kernel.accessAllowed) {\n",
              "        return;\n",
              "      }\n",
              "      const div = document.createElement('div');\n",
              "      const label = document.createElement('label');\n",
              "      label.textContent = `Downloading \"${filename}\": `;\n",
              "      div.appendChild(label);\n",
              "      const progress = document.createElement('progress');\n",
              "      progress.max = size;\n",
              "      div.appendChild(progress);\n",
              "      document.body.appendChild(div);\n",
              "\n",
              "      const buffers = [];\n",
              "      let downloaded = 0;\n",
              "\n",
              "      const channel = await google.colab.kernel.comms.open(id);\n",
              "      // Send a message to notify the kernel that we're ready.\n",
              "      channel.send({})\n",
              "\n",
              "      for await (const message of channel.messages) {\n",
              "        // Send a message to notify the kernel that we're ready.\n",
              "        channel.send({})\n",
              "        if (message.buffers) {\n",
              "          for (const buffer of message.buffers) {\n",
              "            buffers.push(buffer);\n",
              "            downloaded += buffer.byteLength;\n",
              "            progress.value = downloaded;\n",
              "          }\n",
              "        }\n",
              "      }\n",
              "      const blob = new Blob(buffers, {type: 'application/binary'});\n",
              "      const a = document.createElement('a');\n",
              "      a.href = window.URL.createObjectURL(blob);\n",
              "      a.download = filename;\n",
              "      div.appendChild(a);\n",
              "      a.click();\n",
              "      div.remove();\n",
              "    }\n",
              "  "
            ]
          },
          "metadata": {}
        },
        {
          "output_type": "display_data",
          "data": {
            "text/plain": [
              "<IPython.core.display.Javascript object>"
            ],
            "application/javascript": [
              "download(\"download_cb5e253c-5e3c-4e9b-ab72-b5e0cb530c5a\", \"R_solanacearum_genomes.fasta\", 2382204305)"
            ]
          },
          "metadata": {}
        }
      ]
    }
  ],
  "metadata": {
    "colab": {
      "provenance": [],
      "include_colab_link": true
    },
    "language_info": {
      "name": "python"
    },
    "kernelspec": {
      "name": "python3",
      "display_name": "Python 3"
    }
  },
  "nbformat": 4,
  "nbformat_minor": 5
}