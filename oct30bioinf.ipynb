{
  "nbformat": 4,
  "nbformat_minor": 0,
  "metadata": {
    "colab": {
      "provenance": [],
      "authorship_tag": "ABX9TyN9ibZlRDA40E2WEFOXbghm",
      "include_colab_link": true
    },
    "kernelspec": {
      "name": "python3",
      "display_name": "Python 3"
    },
    "language_info": {
      "name": "python"
    }
  },
  "cells": [
    {
      "cell_type": "markdown",
      "metadata": {
        "id": "view-in-github",
        "colab_type": "text"
      },
      "source": [
        "<a href=\"https://colab.research.google.com/github/mervekldrm/bioinformatics/blob/main/oct30bioinf.ipynb\" target=\"_parent\"><img src=\"https://colab.research.google.com/assets/colab-badge.svg\" alt=\"Open In Colab\"/></a>"
      ]
    },
    {
      "cell_type": "code",
      "execution_count": 1,
      "metadata": {
        "colab": {
          "base_uri": "https://localhost:8080/"
        },
        "id": "QDOB9Qp43lxv",
        "outputId": "33657540-6d05-48b2-94b1-d8840737aa4f"
      },
      "outputs": [
        {
          "output_type": "stream",
          "name": "stdout",
          "text": [
            "Collecting biopython\n",
            "  Downloading biopython-1.86-cp312-cp312-manylinux2014_x86_64.manylinux_2_17_x86_64.manylinux_2_28_x86_64.whl.metadata (13 kB)\n",
            "Requirement already satisfied: numpy in /usr/local/lib/python3.12/dist-packages (from biopython) (2.0.2)\n",
            "Downloading biopython-1.86-cp312-cp312-manylinux2014_x86_64.manylinux_2_17_x86_64.manylinux_2_28_x86_64.whl (3.2 MB)\n",
            "\u001b[2K   \u001b[90m━━━━━━━━━━━━━━━━━━━━━━━━━━━━━━━━━━━━━━━━\u001b[0m \u001b[32m3.2/3.2 MB\u001b[0m \u001b[31m23.1 MB/s\u001b[0m eta \u001b[36m0:00:00\u001b[0m\n",
            "\u001b[?25hInstalling collected packages: biopython\n",
            "Successfully installed biopython-1.86\n"
          ]
        }
      ],
      "source": [
        "try:\n",
        "    import google.colab\n",
        "    # Running on Google Colab, so install Biopython first\n",
        "    !pip install biopython\n",
        "except ImportError:\n",
        "    pass"
      ]
    },
    {
      "cell_type": "code",
      "source": [
        "from Bio.Seq import Seq\n",
        "my_seq = Seq(\"GATCG\")\n",
        "for index, letter in enumerate(my_seq):\n",
        "    print(\"%i %s\" % (index, letter))"
      ],
      "metadata": {
        "colab": {
          "base_uri": "https://localhost:8080/"
        },
        "id": "vpC--p5O35T2",
        "outputId": "5e8e4241-f624-4f5f-bbfa-85fff76551a7"
      },
      "execution_count": 2,
      "outputs": [
        {
          "output_type": "stream",
          "name": "stdout",
          "text": [
            "0 G\n",
            "1 A\n",
            "2 T\n",
            "3 C\n",
            "4 G\n"
          ]
        }
      ]
    },
    {
      "cell_type": "code",
      "source": [
        "print(\"The first letter:\", my_seq[0])\n",
        "print(\"The third letter:\", my_seq[2])\n",
        "print(\"The last letter:\", my_seq[-1])"
      ],
      "metadata": {
        "colab": {
          "base_uri": "https://localhost:8080/"
        },
        "id": "m_UAtR1d4C6W",
        "outputId": "0a9b0fd2-57f0-4c56-c197-a1f313397214"
      },
      "execution_count": 3,
      "outputs": [
        {
          "output_type": "stream",
          "name": "stdout",
          "text": [
            "The first letter: G\n",
            "The third letter: T\n",
            "The last letter: G\n"
          ]
        }
      ]
    },
    {
      "cell_type": "code",
      "source": [
        "\n",
        "print(len(my_seq))\n"
      ],
      "metadata": {
        "colab": {
          "base_uri": "https://localhost:8080/"
        },
        "id": "9GtndyR14_p2",
        "outputId": "57c2d9e2-62b4-4e65-e869-f9803bc33597"
      },
      "execution_count": 4,
      "outputs": [
        {
          "output_type": "stream",
          "name": "stdout",
          "text": [
            "5\n"
          ]
        }
      ]
    },
    {
      "cell_type": "code",
      "source": [
        "Seq(\"AATTAA\").count(\"A\")\n"
      ],
      "metadata": {
        "colab": {
          "base_uri": "https://localhost:8080/"
        },
        "id": "Yoww0D5o5Bem",
        "outputId": "400c93ab-2230-4a8a-cf30-207d19bf8e5c"
      },
      "execution_count": 5,
      "outputs": [
        {
          "output_type": "execute_result",
          "data": {
            "text/plain": [
              "4"
            ]
          },
          "metadata": {},
          "execution_count": 5
        }
      ]
    },
    {
      "cell_type": "code",
      "source": [
        "from Bio.Seq import Seq\n",
        "my_seq = Seq(\"GATCGATGGGCCTATATAGGATCGAAAATCGC\")\n",
        "len(my_seq)"
      ],
      "metadata": {
        "colab": {
          "base_uri": "https://localhost:8080/"
        },
        "id": "hb5MNlcu5EzO",
        "outputId": "a0d251c9-e9c2-4f72-a330-0eefaf546560"
      },
      "execution_count": 6,
      "outputs": [
        {
          "output_type": "execute_result",
          "data": {
            "text/plain": [
              "32"
            ]
          },
          "metadata": {},
          "execution_count": 6
        }
      ]
    },
    {
      "cell_type": "code",
      "source": [
        "my_seq.count(\"G\")\n"
      ],
      "metadata": {
        "colab": {
          "base_uri": "https://localhost:8080/"
        },
        "id": "7BMP0tKm5HND",
        "outputId": "26803c97-285c-452b-a2bf-79d24d8a0cf1"
      },
      "execution_count": 7,
      "outputs": [
        {
          "output_type": "execute_result",
          "data": {
            "text/plain": [
              "9"
            ]
          },
          "metadata": {},
          "execution_count": 7
        }
      ]
    },
    {
      "cell_type": "code",
      "source": [
        "my_seq.count(\"ATG\")\n"
      ],
      "metadata": {
        "colab": {
          "base_uri": "https://localhost:8080/"
        },
        "id": "5u51WFt35Jnn",
        "outputId": "611fe5ba-654d-43c7-963e-9787879fbadb"
      },
      "execution_count": 8,
      "outputs": [
        {
          "output_type": "execute_result",
          "data": {
            "text/plain": [
              "1"
            ]
          },
          "metadata": {},
          "execution_count": 8
        }
      ]
    },
    {
      "cell_type": "code",
      "source": [
        "100 * (my_seq.count(\"G\") + my_seq.count(\"C\")) / len(my_seq)\n"
      ],
      "metadata": {
        "colab": {
          "base_uri": "https://localhost:8080/"
        },
        "id": "nHtA_BcR5M5n",
        "outputId": "11b3cb62-4647-4a54-b128-1544d877c2b8"
      },
      "execution_count": 9,
      "outputs": [
        {
          "output_type": "execute_result",
          "data": {
            "text/plain": [
              "46.875"
            ]
          },
          "metadata": {},
          "execution_count": 9
        }
      ]
    },
    {
      "cell_type": "markdown",
      "source": [
        "Between G and C 3 H bonds, A-T 2. G-C need more heat to be broken"
      ],
      "metadata": {
        "id": "lFh9AL9v54rT"
      }
    },
    {
      "cell_type": "code",
      "source": [
        "from Bio.Seq import Seq\n",
        "from Bio.SeqUtils import gc_fraction\n",
        "my_seq = Seq(\"GATCGATGGGCCTATATAGGATCGAAAATGGC\")\n",
        "gc_fraction(my_seq)"
      ],
      "metadata": {
        "colab": {
          "base_uri": "https://localhost:8080/"
        },
        "id": "Jt8_SUR45YR4",
        "outputId": "e86057b7-6532-418a-8776-cbd7cbae7401"
      },
      "execution_count": 10,
      "outputs": [
        {
          "output_type": "execute_result",
          "data": {
            "text/plain": [
              "0.46875"
            ]
          },
          "metadata": {},
          "execution_count": 10
        }
      ]
    },
    {
      "cell_type": "code",
      "source": [
        "my_seq.find(\"ATG\")\n"
      ],
      "metadata": {
        "colab": {
          "base_uri": "https://localhost:8080/"
        },
        "id": "CdgYL_PE5aPz",
        "outputId": "53a94dd9-ef88-4d13-de05-ddf2243ed0dd"
      },
      "execution_count": 11,
      "outputs": [
        {
          "output_type": "execute_result",
          "data": {
            "text/plain": [
              "5"
            ]
          },
          "metadata": {},
          "execution_count": 11
        }
      ]
    },
    {
      "cell_type": "markdown",
      "source": [
        "first index where ATG starts"
      ],
      "metadata": {
        "id": "IiKa1ZFK6xni"
      }
    },
    {
      "cell_type": "code",
      "source": [
        "my_seq.rfind(\"ATG\")\n"
      ],
      "metadata": {
        "colab": {
          "base_uri": "https://localhost:8080/"
        },
        "id": "e1rfD5GR6X1d",
        "outputId": "8e2c264a-cee2-48b7-d691-85a33486e0e3"
      },
      "execution_count": 12,
      "outputs": [
        {
          "output_type": "execute_result",
          "data": {
            "text/plain": [
              "27"
            ]
          },
          "metadata": {},
          "execution_count": 12
        }
      ]
    },
    {
      "cell_type": "markdown",
      "source": [
        "reverse search, last ATG\n",
        "There may more than 1 genes on a DNA sequence"
      ],
      "metadata": {
        "id": "eV3MI0wV7GNH"
      }
    },
    {
      "cell_type": "code",
      "source": [
        "my_seq.startswith(\"ATG\") #check if the gene start with ATG\n"
      ],
      "metadata": {
        "colab": {
          "base_uri": "https://localhost:8080/"
        },
        "id": "FVvh_fUr6cPt",
        "outputId": "4964d59d-e309-4e0b-faac-2dd30e6daf6e"
      },
      "execution_count": 13,
      "outputs": [
        {
          "output_type": "execute_result",
          "data": {
            "text/plain": [
              "False"
            ]
          },
          "metadata": {},
          "execution_count": 13
        }
      ]
    },
    {
      "cell_type": "code",
      "source": [
        "my_seq.startswith((\"ATG\", \"GAT\", \"GGG\"), 0)\n"
      ],
      "metadata": {
        "colab": {
          "base_uri": "https://localhost:8080/"
        },
        "id": "etyyRtEt6enh",
        "outputId": "d358ab22-9fc5-449b-eb8a-7ac7cc5debe5"
      },
      "execution_count": 14,
      "outputs": [
        {
          "output_type": "execute_result",
          "data": {
            "text/plain": [
              "True"
            ]
          },
          "metadata": {},
          "execution_count": 14
        }
      ]
    },
    {
      "cell_type": "markdown",
      "source": [
        "checking start and stop codons first is may useful."
      ],
      "metadata": {
        "id": "pn71QSPc8GAU"
      }
    },
    {
      "cell_type": "code",
      "source": [
        "my_seq.endswith(\"GGC\")\n"
      ],
      "metadata": {
        "colab": {
          "base_uri": "https://localhost:8080/"
        },
        "id": "tLfhEm9Z6gTb",
        "outputId": "ed417299-1252-401f-9b48-789a0416aba9"
      },
      "execution_count": 15,
      "outputs": [
        {
          "output_type": "execute_result",
          "data": {
            "text/plain": [
              "True"
            ]
          },
          "metadata": {},
          "execution_count": 15
        }
      ]
    },
    {
      "cell_type": "code",
      "source": [
        "from Bio.Seq import Seq\n",
        "my_seq = Seq(\"GATCGATGGGCCTATATAGGATCGAAAATCGC\") #index string\n",
        "my_seq[4:12]"
      ],
      "metadata": {
        "colab": {
          "base_uri": "https://localhost:8080/"
        },
        "id": "rIhALwvE7puf",
        "outputId": "dc95ef02-19c7-42b8-be38-d5a864457c17"
      },
      "execution_count": 16,
      "outputs": [
        {
          "output_type": "execute_result",
          "data": {
            "text/plain": [
              "Seq('GATGGGCC')"
            ]
          },
          "metadata": {},
          "execution_count": 16
        }
      ]
    },
    {
      "cell_type": "code",
      "source": [
        "str(my_seq)\n"
      ],
      "metadata": {
        "colab": {
          "base_uri": "https://localhost:8080/",
          "height": 36
        },
        "id": "LLtMwrNM7tfn",
        "outputId": "a68aeb72-b27c-4eb7-a1ba-a2e44f6ed08e"
      },
      "execution_count": 17,
      "outputs": [
        {
          "output_type": "execute_result",
          "data": {
            "text/plain": [
              "'GATCGATGGGCCTATATAGGATCGAAAATCGC'"
            ],
            "application/vnd.google.colaboratory.intrinsic+json": {
              "type": "string"
            }
          },
          "metadata": {},
          "execution_count": 17
        }
      ]
    },
    {
      "cell_type": "code",
      "source": [
        "print(my_seq)\n"
      ],
      "metadata": {
        "colab": {
          "base_uri": "https://localhost:8080/"
        },
        "id": "7a9X5ouF7vvx",
        "outputId": "4171384a-dc8d-47ac-a048-7fab7bbc6479"
      },
      "execution_count": 18,
      "outputs": [
        {
          "output_type": "stream",
          "name": "stdout",
          "text": [
            "GATCGATGGGCCTATATAGGATCGAAAATCGC\n"
          ]
        }
      ]
    },
    {
      "cell_type": "code",
      "source": [
        "print(my_seq[0::3])\n"
      ],
      "metadata": {
        "colab": {
          "base_uri": "https://localhost:8080/"
        },
        "id": "MfWRhc6U7x9E",
        "outputId": "3cd9a3c6-0c38-43ab-f014-25c98f486d19"
      },
      "execution_count": 19,
      "outputs": [
        {
          "output_type": "stream",
          "name": "stdout",
          "text": [
            "GCTGTAGTAAG\n"
          ]
        }
      ]
    },
    {
      "cell_type": "code",
      "source": [
        "print(my_seq[1::3])\n"
      ],
      "metadata": {
        "colab": {
          "base_uri": "https://localhost:8080/"
        },
        "id": "T51pU3rJ8pSi",
        "outputId": "f88dc9ac-9294-4536-df96-779ff04e5070"
      },
      "execution_count": 20,
      "outputs": [
        {
          "output_type": "stream",
          "name": "stdout",
          "text": [
            "AGGCATGCATC\n"
          ]
        }
      ]
    },
    {
      "cell_type": "code",
      "source": [
        "print(my_seq[2::3])\n"
      ],
      "metadata": {
        "colab": {
          "base_uri": "https://localhost:8080/"
        },
        "id": "e3bOrgxY8t2s",
        "outputId": "3d990e3f-70bb-4d27-cb7b-6dab7d80147c"
      },
      "execution_count": 21,
      "outputs": [
        {
          "output_type": "stream",
          "name": "stdout",
          "text": [
            "TAGCTAAGAC\n"
          ]
        }
      ]
    },
    {
      "cell_type": "code",
      "source": [
        "print(my_seq[::-1])\n"
      ],
      "metadata": {
        "colab": {
          "base_uri": "https://localhost:8080/"
        },
        "id": "yOPDc1Ma8wvs",
        "outputId": "917da5f1-776c-4856-b581-0721830076c7"
      },
      "execution_count": 22,
      "outputs": [
        {
          "output_type": "stream",
          "name": "stdout",
          "text": [
            "CGCTAAAAGCTAGGATATATCCGGGTAGCTAG\n"
          ]
        }
      ]
    },
    {
      "cell_type": "code",
      "source": [
        "fasta_format_string = \">Name\\n%s\\n\" % my_seq\n",
        "print(fasta_format_string)"
      ],
      "metadata": {
        "colab": {
          "base_uri": "https://localhost:8080/"
        },
        "id": "DdqjqrxL8zsE",
        "outputId": "2d84b224-f23d-454c-b4ba-5c7349286629"
      },
      "execution_count": 23,
      "outputs": [
        {
          "output_type": "stream",
          "name": "stdout",
          "text": [
            ">Name\n",
            "GATCGATGGGCCTATATAGGATCGAAAATCGC\n",
            "\n"
          ]
        }
      ]
    },
    {
      "cell_type": "code",
      "source": [
        "from Bio.Seq import Seq\n",
        "seq1 = Seq(\"ACGT\")\n",
        "seq2 = Seq(\"AACCGG\")\n",
        "print(seq1 + seq2)"
      ],
      "metadata": {
        "colab": {
          "base_uri": "https://localhost:8080/"
        },
        "id": "_rFNn7ae83qQ",
        "outputId": "e5a63dd5-52de-497b-c3a8-7462194e0d77"
      },
      "execution_count": 24,
      "outputs": [
        {
          "output_type": "stream",
          "name": "stdout",
          "text": [
            "ACGTAACCGG\n"
          ]
        }
      ]
    },
    {
      "cell_type": "markdown",
      "source": [
        "there maybe more than one source, we need to part that repeated"
      ],
      "metadata": {
        "id": "IDo_DAH_9G23"
      }
    },
    {
      "cell_type": "code",
      "source": [
        "seq = Seq('ATG') * 2\n",
        "print(seq)\n",
        "seq *= 2\n",
        "print(seq)"
      ],
      "metadata": {
        "colab": {
          "base_uri": "https://localhost:8080/"
        },
        "id": "Ebab2AcD87DB",
        "outputId": "150166cd-9667-4ef2-c1a0-e610a125260c"
      },
      "execution_count": 26,
      "outputs": [
        {
          "output_type": "stream",
          "name": "stdout",
          "text": [
            "ATGATG\n",
            "ATGATGATGATG\n"
          ]
        }
      ]
    },
    {
      "cell_type": "markdown",
      "source": [
        "Biopython does not check the sequence contents and will not raise an exception if for example you concatenate a Ptein sequence and a DNA sequence (which is likely a mistake):"
      ],
      "metadata": {
        "id": "y88xAyGc9elc"
      }
    },
    {
      "cell_type": "code",
      "source": [
        "from Bio.Seq import Seq\n",
        "Ptein_seq = Seq(\"EVRNAK\")\n",
        "dna_seq = Seq(\"ACGT\")\n",
        "print(Ptein_seq + dna_seq)"
      ],
      "metadata": {
        "colab": {
          "base_uri": "https://localhost:8080/"
        },
        "id": "OYXmSZXd9D_8",
        "outputId": "bd49c780-23f8-4980-91c7-c783b62ad657"
      },
      "execution_count": 27,
      "outputs": [
        {
          "output_type": "stream",
          "name": "stdout",
          "text": [
            "EVRNAKACGT\n"
          ]
        }
      ]
    },
    {
      "cell_type": "code",
      "source": [
        "from Bio.Seq import Seq\n",
        "list_of_seqs = [Seq(\"ACGT\"), Seq(\"AACC\"), Seq(\"GGTT\")]\n",
        "concatenated = Seq(\"\") #may need to remember where did i concatenate them. For DNA use NNN\n",
        "for s in list_of_seqs:\n",
        "    concatenated += s\n",
        "\n",
        "print(concatenated)"
      ],
      "metadata": {
        "colab": {
          "base_uri": "https://localhost:8080/"
        },
        "id": "r8e2wntZ9rTc",
        "outputId": "fd8f8152-6268-4522-f993-da53a2ffb7d2"
      },
      "execution_count": 28,
      "outputs": [
        {
          "output_type": "stream",
          "name": "stdout",
          "text": [
            "ACGTAACCGGTT\n"
          ]
        }
      ]
    },
    {
      "cell_type": "code",
      "source": [
        "print(sum(list_of_seqs, Seq(\"\")))\n"
      ],
      "metadata": {
        "colab": {
          "base_uri": "https://localhost:8080/"
        },
        "id": "O3n5yT7n924N",
        "outputId": "279239ed-cd04-460c-f7dc-d4ec39cc6eae"
      },
      "execution_count": 29,
      "outputs": [
        {
          "output_type": "stream",
          "name": "stdout",
          "text": [
            "ACGTAACCGGTT\n"
          ]
        }
      ]
    },
    {
      "cell_type": "code",
      "source": [
        "from Bio.Seq import Seq\n",
        "contigs = [Seq(\"ATG\"), Seq(\"ATCCCG\"), Seq(\"TTGCA\")]\n",
        "spacer = Seq(\"N\" * 3)\n",
        "print(spacer.join(contigs))"
      ],
      "metadata": {
        "colab": {
          "base_uri": "https://localhost:8080/"
        },
        "id": "wQCcTD81-uRC",
        "outputId": "8428eae4-f03f-49dd-8318-58fae9d5778b"
      },
      "execution_count": 33,
      "outputs": [
        {
          "output_type": "stream",
          "name": "stdout",
          "text": [
            "ATGNNNATCCCGNNNTTGCA\n"
          ]
        }
      ]
    },
    {
      "cell_type": "code",
      "source": [
        "from Bio.Seq import Seq\n",
        "dna_seq = Seq(\"acgtACGT\")\n",
        "print(dna_seq)\n",
        "print(dna_seq.upper())\n",
        "print(dna_seq.lower())"
      ],
      "metadata": {
        "colab": {
          "base_uri": "https://localhost:8080/"
        },
        "id": "eaW0yD4V-0XG",
        "outputId": "ce4daeb8-24e4-45b2-970c-3466411d1286"
      },
      "execution_count": 31,
      "outputs": [
        {
          "output_type": "stream",
          "name": "stdout",
          "text": [
            "acgtACGT\n",
            "ACGTACGT\n",
            "acgtacgt\n"
          ]
        }
      ]
    },
    {
      "cell_type": "code",
      "source": [
        "\"GTAC\" in dna_seq\n"
      ],
      "metadata": {
        "colab": {
          "base_uri": "https://localhost:8080/"
        },
        "id": "mMxYP4Cl_G6D",
        "outputId": "e61311e5-ad08-4e98-e39e-0eeb26e63a9a"
      },
      "execution_count": 34,
      "outputs": [
        {
          "output_type": "execute_result",
          "data": {
            "text/plain": [
              "False"
            ]
          },
          "metadata": {},
          "execution_count": 34
        }
      ]
    },
    {
      "cell_type": "code",
      "source": [
        "\"GTAC\" in dna_seq.upper()\n"
      ],
      "metadata": {
        "colab": {
          "base_uri": "https://localhost:8080/"
        },
        "id": "T9XrOmrE_Jh5",
        "outputId": "bf5dddfa-6046-46da-ee15-4a5cdd77ef1e"
      },
      "execution_count": 35,
      "outputs": [
        {
          "output_type": "execute_result",
          "data": {
            "text/plain": [
              "True"
            ]
          },
          "metadata": {},
          "execution_count": 35
        }
      ]
    },
    {
      "cell_type": "markdown",
      "source": [
        "DNA sequence is given us from 5' to 3'. and it is the coding part, that contains ATG. 5' can not be bond, 3' make the bonds."
      ],
      "metadata": {
        "id": "4DWTHOJdFMXm"
      }
    },
    {
      "cell_type": "code",
      "source": [
        "from Bio.Seq import Seq\n",
        "my_seq = Seq(\"GATCGATGGGCCTATATAGGATCGAAAATCGC\")\n",
        "print(\"-Original sequence-\")\n",
        "print(my_seq)\n",
        "print(my_seq.complement())\n",
        "print(\"-Complementary sequence-\")"
      ],
      "metadata": {
        "colab": {
          "base_uri": "https://localhost:8080/"
        },
        "id": "x78q0Pig_LmF",
        "outputId": "c7bd2751-b824-4d26-b951-66b5763d3f62"
      },
      "execution_count": 36,
      "outputs": [
        {
          "output_type": "stream",
          "name": "stdout",
          "text": [
            "-Original sequence-\n",
            "GATCGATGGGCCTATATAGGATCGAAAATCGC\n",
            "CTAGCTACCCGGATATATCCTAGCTTTTAGCG\n",
            "-Complementary sequence-\n"
          ]
        }
      ]
    },
    {
      "cell_type": "code",
      "source": [
        "print(\"Original sequence:\")\n",
        "print(my_seq)\n",
        "print(\"Reversed sequence:\") #because while giving the sequence to user you give it from 5' to 3'\n",
        "print(my_seq[::-1])"
      ],
      "metadata": {
        "colab": {
          "base_uri": "https://localhost:8080/"
        },
        "id": "jEcP8cRVEBYX",
        "outputId": "44a005c9-c998-4478-9abb-a2a056a11e84"
      },
      "execution_count": 37,
      "outputs": [
        {
          "output_type": "stream",
          "name": "stdout",
          "text": [
            "Original sequence:\n",
            "GATCGATGGGCCTATATAGGATCGAAAATCGC\n",
            "Reversed sequence:\n",
            "CGCTAAAAGCTAGGATATATCCGGGTAGCTAG\n"
          ]
        }
      ]
    },
    {
      "cell_type": "code",
      "source": [
        "print(\"Original sequence:\")\n",
        "print(my_seq)\n",
        "print(\"-Reversed sequence-\")\n",
        "print(my_seq[::-1])\n",
        "print(my_seq.reverse_complement()) #if you don't know which strand it is and couldn't find a gene it may the complement so you should find the coding strand\n",
        "print(\"-Reverse Complementary sequence-\")"
      ],
      "metadata": {
        "colab": {
          "base_uri": "https://localhost:8080/"
        },
        "id": "lQysDE00EIan",
        "outputId": "5737838c-4a1a-417a-8c5f-4a8bbe1e37a0"
      },
      "execution_count": 38,
      "outputs": [
        {
          "output_type": "stream",
          "name": "stdout",
          "text": [
            "Original sequence:\n",
            "GATCGATGGGCCTATATAGGATCGAAAATCGC\n",
            "-Reversed sequence-\n",
            "CGCTAAAAGCTAGGATATATCCGGGTAGCTAG\n",
            "GCGATTTTCGATCCTATATAGGCCCATCGATC\n",
            "-Reverse Complementary sequence-\n"
          ]
        }
      ]
    },
    {
      "cell_type": "code",
      "source": [
        "from Bio.Seq import Seq\n",
        "protein_seq = Seq(\"EVRNAK\")\n",
        "print(protein_seq.complement())\n",
        "print(\"Proteins do not have complements!\")"
      ],
      "metadata": {
        "colab": {
          "base_uri": "https://localhost:8080/"
        },
        "id": "nM_gLGKXEMwL",
        "outputId": "e53a9b4a-4c31-40f8-fda3-5abc5ac50e72"
      },
      "execution_count": 40,
      "outputs": [
        {
          "output_type": "stream",
          "name": "stdout",
          "text": [
            "EBYNTM\n",
            "Proteins do not have complements!\n"
          ]
        }
      ]
    },
    {
      "cell_type": "code",
      "source": [
        "coding_dna = Seq(\"ATGGCCATTGTAATGGGCCGCTGAAAGGGTGCCCGATAG\")\n",
        "print(\"Coding strand:\")\n",
        "print(\"5'-\", coding_dna, \"-3'\")\n",
        "print(\"Template strand:\")\n",
        "template_dna = coding_dna.reverse_complement()\n",
        "print(\"5'-\",template_dna,\"-3'\")"
      ],
      "metadata": {
        "colab": {
          "base_uri": "https://localhost:8080/"
        },
        "id": "e_kpNTmUJsf7",
        "outputId": "88e2d2f6-8c4c-4a3a-b6fe-242d4927bd64"
      },
      "execution_count": 41,
      "outputs": [
        {
          "output_type": "stream",
          "name": "stdout",
          "text": [
            "Coding strand:\n",
            "5'- ATGGCCATTGTAATGGGCCGCTGAAAGGGTGCCCGATAG -3'\n",
            "Template strand:\n",
            "5'- CTATCGGGCACCCTTTCAGCGGCCCATTACAATGGCCAT -3'\n"
          ]
        }
      ]
    },
    {
      "cell_type": "code",
      "source": [
        "coding_dna = Seq(\"ATGGCCATTGTAATGGGCCGCTGAAAGGGTGCCCGATAG\")\n",
        "print(\"Coding strand:\")\n",
        "print(\"5'-\", coding_dna, \"-3'\")\n",
        "print(\"Wrong Template strand:\")\n",
        "complement_dna = coding_dna.complement()\n",
        "print(\"5'-\",complement_dna,\"-3'\")"
      ],
      "metadata": {
        "colab": {
          "base_uri": "https://localhost:8080/"
        },
        "id": "pWRhV29nJvQf",
        "outputId": "c8ccd6cb-a860-4043-b9c0-646b1158c581"
      },
      "execution_count": 42,
      "outputs": [
        {
          "output_type": "stream",
          "name": "stdout",
          "text": [
            "Coding strand:\n",
            "5'- ATGGCCATTGTAATGGGCCGCTGAAAGGGTGCCCGATAG -3'\n",
            "Wrong Template strand:\n",
            "5'- TACCGGTAACATTACCCGGCGACTTTCCCACGGGCTATC -3'\n"
          ]
        }
      ]
    },
    {
      "cell_type": "code",
      "source": [
        "coding_dna = Seq(\"ATGGCCATTGTAATGGGCCGCTGAAAGGGTGCCCGATAG\")\n",
        "print(\" DNA: 5'-\", coding_dna, \"-3'\")\n",
        "messenger_rna = coding_dna.transcribe()\n",
        "print(\"mRNA: 5'-\", messenger_rna, \"-3'\")"
      ],
      "metadata": {
        "colab": {
          "base_uri": "https://localhost:8080/"
        },
        "id": "Re9PEzv0Jwua",
        "outputId": "842f0d15-f944-4f22-931b-a46a90c026b7"
      },
      "execution_count": 43,
      "outputs": [
        {
          "output_type": "stream",
          "name": "stdout",
          "text": [
            " DNA: 5'- ATGGCCATTGTAATGGGCCGCTGAAAGGGTGCCCGATAG -3'\n",
            "mRNA: 5'- AUGGCCAUUGUAAUGGGCCGCUGAAAGGGUGCCCGAUAG -3'\n"
          ]
        }
      ]
    },
    {
      "cell_type": "code",
      "source": [
        "# You can also directly change DNA to RNA\n",
        "messenger_rna = coding_dna.replace('T','U')\n",
        "print(messenger_rna)"
      ],
      "metadata": {
        "colab": {
          "base_uri": "https://localhost:8080/"
        },
        "id": "fmJVOto9KC0i",
        "outputId": "a2c3a5ae-a5d7-44d9-c13e-df553629172a"
      },
      "execution_count": 44,
      "outputs": [
        {
          "output_type": "stream",
          "name": "stdout",
          "text": [
            "AUGGCCAUUGUAAUGGGCCGCUGAAAGGGUGCCCGAUAG\n"
          ]
        }
      ]
    },
    {
      "cell_type": "code",
      "source": [
        "print(\"Template strand:\")\n",
        "print(\"5'-\", template_dna, \"-3'\")\n",
        "print(\"mRNA:\")\n",
        "print(\"5'-\", template_dna.reverse_complement().transcribe(), \"-3'\")"
      ],
      "metadata": {
        "colab": {
          "base_uri": "https://localhost:8080/"
        },
        "id": "Hvh9hkecKgLF",
        "outputId": "186b7e92-16ee-49c9-cb75-75e037a2e289"
      },
      "execution_count": 45,
      "outputs": [
        {
          "output_type": "stream",
          "name": "stdout",
          "text": [
            "Template strand:\n",
            "5'- CTATCGGGCACCCTTTCAGCGGCCCATTACAATGGCCAT -3'\n",
            "mRNA:\n",
            "5'- AUGGCCAUUGUAAUGGGCCGCUGAAAGGGUGCCCGAUAG -3'\n"
          ]
        }
      ]
    },
    {
      "cell_type": "code",
      "source": [
        "print(messenger_rna.back_transcribe())\n"
      ],
      "metadata": {
        "colab": {
          "base_uri": "https://localhost:8080/"
        },
        "id": "2mSobnARKlPz",
        "outputId": "1d67292a-a3b8-4693-b512-d48a6c7ad78e"
      },
      "execution_count": 46,
      "outputs": [
        {
          "output_type": "stream",
          "name": "stdout",
          "text": [
            "ATGGCCATTGTAATGGGCCGCTGAAAGGGTGCCCGATAG\n"
          ]
        }
      ]
    },
    {
      "cell_type": "code",
      "source": [
        "# Here is the genetic code of the amino acids defined as dictionaries\n",
        "standard_genetic_code = {'UUU':'F', 'UUC':'F', 'UCU':'S', 'UCC':'S',\n",
        "                        'UAU':'Y', 'UAC':'Y', 'UGU':'C', 'UGC':'C',\n",
        "                        'UUA':'L', 'UCA':'S', 'UAA':'*', 'UGA':'*',\n",
        "                        'UUG':'L', 'UCG':'S', 'UAG':'*', 'UGG':'W',\n",
        "                        'CUU':'L', 'CUC':'L', 'CCU':'P', 'CCC':'P',\n",
        "                        'CAU':'H', 'CAC':'H', 'CGU':'R', 'CGC':'R',\n",
        "                        'CUA':'L', 'CUG':'L', 'CCA':'P', 'CCG':'P',\n",
        "                        'CAA':'Q', 'CAG':'Q', 'CGA':'R', 'CGG':'R',\n",
        "                        'AUU':'I', 'AUC':'I', 'ACU':'T', 'ACC':'T',\n",
        "                        'AAU':'N', 'AAC':'N', 'AGU':'S', 'AGC':'S',\n",
        "                        'AUA':'I', 'ACA':'T', 'AAA':'K', 'AGA':'R',\n",
        "                        'AUG':'M', 'ACG':'T', 'AAG':'K', 'AGG':'R',\n",
        "                        'GUU':'V', 'GUC':'V', 'GCU':'A', 'GCC':'A',\n",
        "                        'GAU':'D', 'GAC':'D', 'GGU':'G', 'GGC':'G',\n",
        "                        'GUA':'V', 'GUG':'V', 'GCA':'A', 'GCG':'A',\n",
        "                        'GAA':'E', 'GAG':'E', 'GGA':'G', 'GGG':'G'\n",
        "                        }\n",
        "\n",
        "def proteinTranslation(seq, geneticCode):\n",
        "    \"\"\" This function translates a nucleic acid sequence into a\n",
        "    protein sequence, until the end or until it comes across\n",
        "    a stop codon \"\"\"\n",
        "    # Changes all the T into U, DNA to RNA\n",
        "    seq = seq.replace('T','U') # Make sure we have RNA sequence\n",
        "    proteinSeq = [] # Initializing the proteinSeq list to store the output\n",
        "\n",
        "    i = 0\n",
        "    while i+2 < len(seq):\n",
        "        # Get codons of three letters\n",
        "        codon = seq[i:i+3]\n",
        "        # Get the match-up aminoacid\n",
        "        aminoAcid = geneticCode[codon]\n",
        "        # If found stop looping\n",
        "        if aminoAcid is None: # Found stop codon\n",
        "            break\n",
        "        # Other wise add that aminoacid to proteinSeq list\n",
        "        proteinSeq.append(aminoAcid)\n",
        "        i += 3\n",
        "\n",
        "    return ''.join(proteinSeq)"
      ],
      "metadata": {
        "id": "rpGsxYUHKmoA"
      },
      "execution_count": 48,
      "outputs": []
    },
    {
      "cell_type": "code",
      "source": [
        "dnaSeq = 'ATGGCCATTGTAATGGGCCGCTGAAAGGGTGCCCGATAG' #coding dna\n",
        "proteinSeq = proteinTranslation(dnaSeq, standard_genetic_code)\n",
        "print(proteinSeq)"
      ],
      "metadata": {
        "colab": {
          "base_uri": "https://localhost:8080/"
        },
        "id": "z27spnCuLAAn",
        "outputId": "275d09ff-9232-4c1c-99ad-2b7c693a226f"
      },
      "execution_count": 49,
      "outputs": [
        {
          "output_type": "stream",
          "name": "stdout",
          "text": [
            "MAIVMGR*KGAR*\n"
          ]
        }
      ]
    },
    {
      "cell_type": "code",
      "source": [
        "print(messenger_rna.translate())\n"
      ],
      "metadata": {
        "colab": {
          "base_uri": "https://localhost:8080/"
        },
        "id": "Ss2Ij6f6MDfh",
        "outputId": "967ae948-2768-4d08-c10b-98b3fc609019"
      },
      "execution_count": 50,
      "outputs": [
        {
          "output_type": "stream",
          "name": "stdout",
          "text": [
            "MAIVMGR*KGAR*\n"
          ]
        }
      ]
    },
    {
      "cell_type": "code",
      "source": [
        "print(coding_dna.translate())\n"
      ],
      "metadata": {
        "colab": {
          "base_uri": "https://localhost:8080/"
        },
        "id": "eI0yfffvMx4T",
        "outputId": "81aa620f-bad0-41d1-b1a0-0850220f9012"
      },
      "execution_count": 51,
      "outputs": [
        {
          "output_type": "stream",
          "name": "stdout",
          "text": [
            "MAIVMGR*KGAR*\n"
          ]
        }
      ]
    },
    {
      "cell_type": "code",
      "source": [
        "print(coding_dna.translate(table=\"Vertebrate Mitochondrial\"))\n"
      ],
      "metadata": {
        "colab": {
          "base_uri": "https://localhost:8080/"
        },
        "id": "1raeHfT-Mz6J",
        "outputId": "43023b4a-cd0b-4798-cea3-7b2901ab7a1e"
      },
      "execution_count": 52,
      "outputs": [
        {
          "output_type": "stream",
          "name": "stdout",
          "text": [
            "MAIVMGRWKGAR*\n"
          ]
        }
      ]
    },
    {
      "cell_type": "code",
      "source": [
        "print(coding_dna.translate())\n",
        "print(coding_dna.translate(to_stop=True))"
      ],
      "metadata": {
        "colab": {
          "base_uri": "https://localhost:8080/"
        },
        "id": "ey0PK7XyM25w",
        "outputId": "dbd8a473-79cc-44c9-d268-400165a3e222"
      },
      "execution_count": 53,
      "outputs": [
        {
          "output_type": "stream",
          "name": "stdout",
          "text": [
            "MAIVMGR*KGAR*\n",
            "MAIVMGR\n"
          ]
        }
      ]
    },
    {
      "cell_type": "code",
      "source": [
        "print(coding_dna.translate(table=\"Vertebrate Mitochondrial\", to_stop=True))\n"
      ],
      "metadata": {
        "colab": {
          "base_uri": "https://localhost:8080/"
        },
        "id": "h1Z1CylEM5Y6",
        "outputId": "449d7d80-4fd2-4864-ef14-80a81d6132dc"
      },
      "execution_count": 54,
      "outputs": [
        {
          "output_type": "stream",
          "name": "stdout",
          "text": [
            "MAIVMGRWKGAR\n"
          ]
        }
      ]
    },
    {
      "cell_type": "code",
      "source": [
        "gene = Seq(\"GTGAAAAAGATGCAATCTATCGTACTCGCACTTTCCCTGGTTCTGGTCGCTCCCATGGCA\" +\n",
        "           \"GCACAGGCTGCGGAAATTACGTTAGTCCCGTCAGTAAAATTACAGATAGGCGATCGTGAT\" +\n",
        "           \"AATCGTGGCTATTACTGGGATGGAGGTCACTGGCGCGACCACGGCTGGTGGAAACAACAT\" +\n",
        "           \"TATGAATGGCGAGGCAATCGCTGGCACCTACACGGACCGCCGCCACCGCCGCGCCACCAT\" +\n",
        "           \"AAGAAAGCTCCTCATGATCATCACGGCGGTCATGGTCCAGGCAAACATCACCGCTAA\")\n",
        "print(gene.translate(table=\"Bacterial\"))  #some bacterias use GTG as a start codon"
      ],
      "metadata": {
        "colab": {
          "base_uri": "https://localhost:8080/"
        },
        "id": "9CiErubhM7zm",
        "outputId": "56b254a9-f645-4a94-fa46-50c3a0916b07"
      },
      "execution_count": 55,
      "outputs": [
        {
          "output_type": "stream",
          "name": "stdout",
          "text": [
            "VKKMQSIVLALSLVLVAPMAAQAAEITLVPSVKLQIGDRDNRGYYWDGGHWRDHGWWKQHYEWRGNRWHLHGPPPPPRHHKKAPHDHHGGHGPGKHHR*\n"
          ]
        }
      ]
    },
    {
      "cell_type": "code",
      "source": [
        "print(gene.translate(table=\"Bacterial\", cds=True))\n"
      ],
      "metadata": {
        "colab": {
          "base_uri": "https://localhost:8080/"
        },
        "id": "Jpo1ZX_SM-W7",
        "outputId": "f203b550-df81-4f48-d8f5-7d9381d626cc"
      },
      "execution_count": 56,
      "outputs": [
        {
          "output_type": "stream",
          "name": "stdout",
          "text": [
            "MKKMQSIVLALSLVLVAPMAAQAAEITLVPSVKLQIGDRDNRGYYWDGGHWRDHGWWKQHYEWRGNRWHLHGPPPPPRHHKKAPHDHHGGHGPGKHHR\n"
          ]
        }
      ]
    },
    {
      "cell_type": "code",
      "source": [
        "from Bio.Data import CodonTable\n",
        "standard_codon_table = CodonTable.unambiguous_dna_by_name[\"Standard\"]\n",
        "bactarial_codon_table = CodonTable.unambiguous_dna_by_name[\"Bacterial\"]"
      ],
      "metadata": {
        "id": "acwWUVteNBWK"
      },
      "execution_count": 57,
      "outputs": []
    },
    {
      "cell_type": "code",
      "source": [
        "print(standard_codon_table)\n"
      ],
      "metadata": {
        "colab": {
          "base_uri": "https://localhost:8080/"
        },
        "id": "-2uF2_mXOl30",
        "outputId": "f92fb068-f827-40ff-dc76-171d27b91e72"
      },
      "execution_count": 58,
      "outputs": [
        {
          "output_type": "stream",
          "name": "stdout",
          "text": [
            "Table 1 Standard, SGC0\n",
            "\n",
            "  |  T      |  C      |  A      |  G      |\n",
            "--+---------+---------+---------+---------+--\n",
            "T | TTT F   | TCT S   | TAT Y   | TGT C   | T\n",
            "T | TTC F   | TCC S   | TAC Y   | TGC C   | C\n",
            "T | TTA L   | TCA S   | TAA Stop| TGA Stop| A\n",
            "T | TTG L(s)| TCG S   | TAG Stop| TGG W   | G\n",
            "--+---------+---------+---------+---------+--\n",
            "C | CTT L   | CCT P   | CAT H   | CGT R   | T\n",
            "C | CTC L   | CCC P   | CAC H   | CGC R   | C\n",
            "C | CTA L   | CCA P   | CAA Q   | CGA R   | A\n",
            "C | CTG L(s)| CCG P   | CAG Q   | CGG R   | G\n",
            "--+---------+---------+---------+---------+--\n",
            "A | ATT I   | ACT T   | AAT N   | AGT S   | T\n",
            "A | ATC I   | ACC T   | AAC N   | AGC S   | C\n",
            "A | ATA I   | ACA T   | AAA K   | AGA R   | A\n",
            "A | ATG M(s)| ACG T   | AAG K   | AGG R   | G\n",
            "--+---------+---------+---------+---------+--\n",
            "G | GTT V   | GCT A   | GAT D   | GGT G   | T\n",
            "G | GTC V   | GCC A   | GAC D   | GGC G   | C\n",
            "G | GTA V   | GCA A   | GAA E   | GGA G   | A\n",
            "G | GTG V   | GCG A   | GAG E   | GGG G   | G\n",
            "--+---------+---------+---------+---------+--\n"
          ]
        }
      ]
    },
    {
      "cell_type": "code",
      "source": [
        "print(bactarial_codon_table)\n"
      ],
      "metadata": {
        "colab": {
          "base_uri": "https://localhost:8080/"
        },
        "id": "a4ACFiDXOqmL",
        "outputId": "2a2ec3ff-c643-4118-c6ab-42274a8de8f3"
      },
      "execution_count": 59,
      "outputs": [
        {
          "output_type": "stream",
          "name": "stdout",
          "text": [
            "Table 11 Bacterial, Archaeal, Plant Plastid\n",
            "\n",
            "  |  T      |  C      |  A      |  G      |\n",
            "--+---------+---------+---------+---------+--\n",
            "T | TTT F   | TCT S   | TAT Y   | TGT C   | T\n",
            "T | TTC F   | TCC S   | TAC Y   | TGC C   | C\n",
            "T | TTA L   | TCA S   | TAA Stop| TGA Stop| A\n",
            "T | TTG L(s)| TCG S   | TAG Stop| TGG W   | G\n",
            "--+---------+---------+---------+---------+--\n",
            "C | CTT L   | CCT P   | CAT H   | CGT R   | T\n",
            "C | CTC L   | CCC P   | CAC H   | CGC R   | C\n",
            "C | CTA L   | CCA P   | CAA Q   | CGA R   | A\n",
            "C | CTG L(s)| CCG P   | CAG Q   | CGG R   | G\n",
            "--+---------+---------+---------+---------+--\n",
            "A | ATT I(s)| ACT T   | AAT N   | AGT S   | T\n",
            "A | ATC I(s)| ACC T   | AAC N   | AGC S   | C\n",
            "A | ATA I(s)| ACA T   | AAA K   | AGA R   | A\n",
            "A | ATG M(s)| ACG T   | AAG K   | AGG R   | G\n",
            "--+---------+---------+---------+---------+--\n",
            "G | GTT V   | GCT A   | GAT D   | GGT G   | T\n",
            "G | GTC V   | GCC A   | GAC D   | GGC G   | C\n",
            "G | GTA V   | GCA A   | GAA E   | GGA G   | A\n",
            "G | GTG V(s)| GCG A   | GAG E   | GGG G   | G\n",
            "--+---------+---------+---------+---------+--\n"
          ]
        }
      ]
    },
    {
      "cell_type": "code",
      "source": [
        "print(standard_codon_table.stop_codons)\n",
        "print(standard_codon_table.start_codons)\n",
        "print(standard_codon_table.forward_table[\"ACG\"])"
      ],
      "metadata": {
        "colab": {
          "base_uri": "https://localhost:8080/"
        },
        "id": "s5XHq6q0OuLE",
        "outputId": "8943781d-8ac8-4053-a855-c6a3777b3b52"
      },
      "execution_count": 60,
      "outputs": [
        {
          "output_type": "stream",
          "name": "stdout",
          "text": [
            "['TAA', 'TAG', 'TGA']\n",
            "['TTG', 'CTG', 'ATG']\n",
            "T\n"
          ]
        }
      ]
    },
    {
      "cell_type": "code",
      "source": [
        "seq1 = Seq(\"ACGT\")\n",
        "seq2 = Seq(\"ACGT\")\n"
      ],
      "metadata": {
        "id": "UGF4IID9Ovn1"
      },
      "execution_count": 66,
      "outputs": []
    },
    {
      "cell_type": "code",
      "source": [
        "print(seq1 == seq2)\n"
      ],
      "metadata": {
        "colab": {
          "base_uri": "https://localhost:8080/"
        },
        "id": "pnuEJocmOzk3",
        "outputId": "e5161166-97e8-4438-d04b-5f0de28ce0f0"
      },
      "execution_count": 65,
      "outputs": [
        {
          "output_type": "stream",
          "name": "stdout",
          "text": [
            "True\n"
          ]
        }
      ]
    },
    {
      "cell_type": "code",
      "source": [
        "print(id(seq1) == id(seq2))\n"
      ],
      "metadata": {
        "colab": {
          "base_uri": "https://localhost:8080/"
        },
        "id": "0hs3FJ2YO4C8",
        "outputId": "6323d867-8897-437c-8158-f6cbcec7985d"
      },
      "execution_count": 64,
      "outputs": [
        {
          "output_type": "stream",
          "name": "stdout",
          "text": [
            "False\n"
          ]
        }
      ]
    },
    {
      "cell_type": "code",
      "source": [
        "print(id(seq1))\n",
        "print(id(seq2))"
      ],
      "metadata": {
        "colab": {
          "base_uri": "https://localhost:8080/"
        },
        "id": "ZPOOBWpcO7Qj",
        "outputId": "db472cb3-bec1-4c39-af54-d2712a2861cc"
      },
      "execution_count": 67,
      "outputs": [
        {
          "output_type": "stream",
          "name": "stdout",
          "text": [
            "135509448742416\n",
            "135509448741712\n"
          ]
        }
      ]
    },
    {
      "cell_type": "code",
      "source": [
        "print(str(seq1) == str(seq2))\n"
      ],
      "metadata": {
        "colab": {
          "base_uri": "https://localhost:8080/"
        },
        "id": "aRdTXIz2O9aT",
        "outputId": "9a65e5ed-7b93-4979-c5d2-63f08893ca2c"
      },
      "execution_count": 68,
      "outputs": [
        {
          "output_type": "stream",
          "name": "stdout",
          "text": [
            "True\n"
          ]
        }
      ]
    },
    {
      "cell_type": "code",
      "source": [
        "my_seq = Seq(\"GCCATTGTAATGGGCCGCTGAAAGGGTGCCCGA\")\n",
        "try:\n",
        "    my_seq[0] = \"A\"\n",
        "except Exception as e:\n",
        "    print(e)\n"
      ],
      "metadata": {
        "colab": {
          "base_uri": "https://localhost:8080/"
        },
        "id": "uABxN2M0PDIY",
        "outputId": "90fc65b6-e258-4063-9588-5ab79c271d81"
      },
      "execution_count": 69,
      "outputs": [
        {
          "output_type": "stream",
          "name": "stdout",
          "text": [
            "'Seq' object does not support item assignment\n"
          ]
        }
      ]
    },
    {
      "cell_type": "markdown",
      "source": [
        "seq object is read only"
      ],
      "metadata": {
        "id": "hvQQ_6v2Pa7n"
      }
    },
    {
      "cell_type": "code",
      "source": [
        "from Bio.Seq import MutableSeq\n",
        "mutable_seq = MutableSeq(my_seq)\n",
        "mutable_seq"
      ],
      "metadata": {
        "colab": {
          "base_uri": "https://localhost:8080/"
        },
        "id": "XiTzHO1VPA2b",
        "outputId": "ed2c9605-4567-4598-b0b5-526a476bd266"
      },
      "execution_count": 70,
      "outputs": [
        {
          "output_type": "execute_result",
          "data": {
            "text/plain": [
              "MutableSeq('GCCATTGTAATGGGCCGCTGAAAGGGTGCCCGA')"
            ]
          },
          "metadata": {},
          "execution_count": 70
        }
      ]
    },
    {
      "cell_type": "code",
      "source": [
        "from Bio.Seq import MutableSeq\n",
        "mutable_seq = MutableSeq(\"GCCATTGTAATG\")"
      ],
      "metadata": {
        "id": "kkbJXfTGPJ_j"
      },
      "execution_count": 71,
      "outputs": []
    },
    {
      "cell_type": "code",
      "source": [
        "mutable_seq[0] = \"C\"\n",
        "print(mutable_seq)\n",
        "mutable_seq.remove(\"A\")\n",
        "print(mutable_seq)\n",
        "mutable_seq.reverse()\n",
        "print(mutable_seq)"
      ],
      "metadata": {
        "colab": {
          "base_uri": "https://localhost:8080/"
        },
        "id": "UdIJob8GPl-8",
        "outputId": "f71966dc-ac24-4b69-e122-eeaef0352db3"
      },
      "execution_count": 72,
      "outputs": [
        {
          "output_type": "stream",
          "name": "stdout",
          "text": [
            "CCCATTGTAATG\n",
            "CCCTTGTAATG\n",
            "GTAATGTTCCC\n"
          ]
        }
      ]
    },
    {
      "cell_type": "code",
      "source": [
        "# Add a subsequence to the mutable sequence object:\n",
        "mutable_seq.append('A')\n",
        "print(mutable_seq)\n",
        "\n",
        "# Add a subsequence to the mutable sequence object at a given index:\n",
        "mutable_seq.insert(8,'G')\n",
        "print(mutable_seq)\n",
        "\n",
        "# Remove a subsequence of a single letter at given index:\n",
        "# Returns the last character of the sequence as default.\n",
        "mutable_seq.pop()\n",
        "print(mutable_seq)"
      ],
      "metadata": {
        "colab": {
          "base_uri": "https://localhost:8080/"
        },
        "id": "nLZcCIC-PnKf",
        "outputId": "e427eec9-3b89-43e2-9256-73e1925ae5b3"
      },
      "execution_count": 73,
      "outputs": [
        {
          "output_type": "stream",
          "name": "stdout",
          "text": [
            "GTAATGTTCCCA\n",
            "GTAATGTTGCCCA\n",
            "GTAATGTTGCCC\n"
          ]
        }
      ]
    },
    {
      "cell_type": "code",
      "source": [
        "from Bio.Seq import Seq\n",
        "new_seq = Seq(mutable_seq)\n",
        "new_seq"
      ],
      "metadata": {
        "colab": {
          "base_uri": "https://localhost:8080/"
        },
        "id": "dP8BltQ1PqRK",
        "outputId": "e37dbdd4-c986-4fe2-e092-4649103361a4"
      },
      "execution_count": 74,
      "outputs": [
        {
          "output_type": "execute_result",
          "data": {
            "text/plain": [
              "Seq('GTAATGTTGCCC')"
            ]
          },
          "metadata": {},
          "execution_count": 74
        }
      ]
    },
    {
      "cell_type": "code",
      "source": [
        "from Bio.Seq import reverse_complement, transcribe, back_transcribe, translate\n",
        "my_string = \"GCTGTTATGGGTCGTTGGAAGGGTGGTCGTGCTGCTGGTTAG\"\n",
        "print(reverse_complement(my_string))\n",
        "print(transcribe(my_string))\n",
        "print(back_transcribe(my_string))\n",
        "print(translate(my_string))"
      ],
      "metadata": {
        "colab": {
          "base_uri": "https://localhost:8080/"
        },
        "id": "AkCuARc4PtRP",
        "outputId": "e88ddb80-d1ff-4fb7-fb3d-45ace39bdd70"
      },
      "execution_count": 75,
      "outputs": [
        {
          "output_type": "stream",
          "name": "stdout",
          "text": [
            "CTAACCAGCAGCACGACCACCCTTCCAACGACCCATAACAGC\n",
            "GCUGUUAUGGGUCGUUGGAAGGGUGGUCGUGCUGCUGGUUAG\n",
            "GCTGTTATGGGTCGTTGGAAGGGTGGTCGTGCTGCTGGTTAG\n",
            "AVMGRWKGGRAAG*\n"
          ]
        }
      ]
    }
  ]
}